{
 "cells": [
  {
   "cell_type": "code",
   "execution_count": 1,
   "id": "28eae108-fcaa-465d-9fd0-4fe0cffeafe1",
   "metadata": {},
   "outputs": [],
   "source": [
    "from anndata import AnnData\n",
    "from mudata import MuData\n",
    "import numpy as np\n",
    "import pandas as pd\n",
    "from skimage.draw import disk\n",
    "from tifffile import imread\n",
    "import scanpy as sc\n",
    "from vitessce.data_utils import (\n",
    "    rgb_img_to_ome_tiff,\n",
    "    multiplex_img_to_ome_tiff,\n",
    "    rgb_img_to_ome_zarr,\n",
    "    multiplex_img_to_ome_zarr,\n",
    "    optimize_adata,\n",
    "    VAR_CHUNK_SIZE,\n",
    ")"
   ]
  },
  {
   "cell_type": "code",
   "execution_count": 2,
   "id": "ada13ec1-a7e4-4ee8-aff0-a6df2ce4c118",
   "metadata": {},
   "outputs": [],
   "source": [
    "img_arr = imread(\"/Users/mkeller/Downloads/exemplar-001.pyramid.ome.tif\")"
   ]
  },
  {
   "cell_type": "code",
   "execution_count": 3,
   "id": "5903f357-0208-4651-bf8d-27e5acb72d6f",
   "metadata": {},
   "outputs": [
    {
     "data": {
      "text/plain": [
       "(12, 3138, 2509)"
      ]
     },
     "execution_count": 3,
     "metadata": {},
     "output_type": "execute_result"
    }
   ],
   "source": [
    "img_arr.shape"
   ]
  },
  {
   "cell_type": "code",
   "execution_count": 4,
   "id": "3104abce-d31a-4156-9272-4cd070153695",
   "metadata": {},
   "outputs": [],
   "source": [
    "bitmask_arr = imread(\"/Users/mkeller/Downloads/cellMask.pyramid.ome.tif\")"
   ]
  },
  {
   "cell_type": "code",
   "execution_count": 5,
   "id": "7af584e4-6a68-4cc8-8ca1-b50ae26d237c",
   "metadata": {},
   "outputs": [
    {
     "data": {
      "text/plain": [
       "(3138, 2509)"
      ]
     },
     "execution_count": 5,
     "metadata": {},
     "output_type": "execute_result"
    }
   ],
   "source": [
    "bitmask_arr.shape"
   ]
  },
  {
   "cell_type": "code",
   "execution_count": 6,
   "id": "6070ce48-149e-4748-bb73-ef1fc383b4a6",
   "metadata": {},
   "outputs": [],
   "source": [
    "img_crop_arr = img_arr[0:4, 1000:1250, 1000:1250]"
   ]
  },
  {
   "cell_type": "code",
   "execution_count": 7,
   "id": "566d5acd-d9fb-479e-ab74-3ae0d2e41e2d",
   "metadata": {},
   "outputs": [],
   "source": [
    "cells_bitmask_crop_arr = bitmask_arr[1000:1250, 1000:1250]"
   ]
  },
  {
   "cell_type": "code",
   "execution_count": 8,
   "id": "267af046-78db-4371-9a1d-de43153b3a50",
   "metadata": {},
   "outputs": [],
   "source": [
    "multiplex_img_to_ome_tiff(img_crop_arr, [\"DNA\", \"FDX1\", \"CD1D\", \"CD357\"], \"/Users/mkeller/Downloads/exemplar-001.crop.ome.tif\", axes='CYX')"
   ]
  },
  {
   "cell_type": "code",
   "execution_count": 9,
   "id": "2121fbae-6e05-4a22-826a-093a35bda15e",
   "metadata": {},
   "outputs": [],
   "source": [
    "multiplex_img_to_ome_zarr(img_crop_arr, [\"DNA\", \"FDX1\", \"CD1D\", \"CD357\"], \"/Users/mkeller/Downloads/exemplar-001.crop.image.ome.zarr\")"
   ]
  },
  {
   "cell_type": "code",
   "execution_count": 10,
   "id": "44a5e826-0de7-4112-b45e-ec1683591e82",
   "metadata": {},
   "outputs": [],
   "source": [
    "shapes_bitmask_crop_arr = np.zeros((250, 250))\n",
    "radius = 5\n",
    "for i in range(16):\n",
    "    for j in range(16):\n",
    "        disk_center = (10 + i*15, 10 + j*15)\n",
    "        shapes_bitmask_crop_arr[disk(disk_center, radius)] = i*16+j+1 # add one (0 is reserved for the background)\n",
    "\n",
    "# Update the array axes so they are in CYX order to enable conversion to OME-TIFF.\n",
    "shapes_bitmask_crop_arr = shapes_bitmask_crop_arr.transpose((1, 0)) # (y, x)"
   ]
  },
  {
   "cell_type": "code",
   "execution_count": 11,
   "id": "e7784e4f-c848-49f5-98ce-82161967f129",
   "metadata": {},
   "outputs": [],
   "source": [
    "multichannel_bitmask_arr = np.stack((cells_bitmask_crop_arr, shapes_bitmask_crop_arr))"
   ]
  },
  {
   "cell_type": "code",
   "execution_count": 12,
   "id": "b378aa50-f97c-4514-82b7-8118d0d2f5b1",
   "metadata": {},
   "outputs": [
    {
     "data": {
      "text/plain": [
       "(2, 250, 250)"
      ]
     },
     "execution_count": 12,
     "metadata": {},
     "output_type": "execute_result"
    }
   ],
   "source": [
    "multichannel_bitmask_arr.shape"
   ]
  },
  {
   "cell_type": "code",
   "execution_count": 13,
   "id": "37bdc627-c703-4e6a-bbf9-07a94042e6b2",
   "metadata": {},
   "outputs": [],
   "source": [
    "multiplex_img_to_ome_tiff(multichannel_bitmask_arr, [\"Cells\", \"Circles\"], \"/Users/mkeller/Downloads/exemplar-001.crop.segmentations.ome.tif\", axes='CYX')"
   ]
  },
  {
   "cell_type": "code",
   "execution_count": 14,
   "id": "1500fbd0-9ace-4f12-826b-753458f8c4cc",
   "metadata": {},
   "outputs": [],
   "source": [
    "multiplex_img_to_ome_zarr(multichannel_bitmask_arr, [\"cell\", \"circle\"], \"/Users/mkeller/Downloads/exemplar-001.crop.segmentations.ome.zarr\")"
   ]
  },
  {
   "cell_type": "code",
   "execution_count": 15,
   "id": "f2cb43d3-a017-4433-8267-f39052cea395",
   "metadata": {},
   "outputs": [],
   "source": [
    "cell_ids = np.unique(multichannel_bitmask_arr[0, :, :])[1:]"
   ]
  },
  {
   "cell_type": "code",
   "execution_count": 16,
   "id": "4653bce1-e66f-4a87-873e-736fe9a0727b",
   "metadata": {},
   "outputs": [],
   "source": [
    "circle_ids = np.unique(multichannel_bitmask_arr[1, :, :])[1:]"
   ]
  },
  {
   "cell_type": "code",
   "execution_count": 17,
   "id": "e3a7b75b-5352-434f-8232-8d2940b35edd",
   "metadata": {},
   "outputs": [],
   "source": [
    "cell_df = pd.DataFrame(index=cell_ids.astype(int), data=[], columns=[])"
   ]
  },
  {
   "cell_type": "code",
   "execution_count": 18,
   "id": "f7723381-598b-4293-a7ff-7c8e136660e0",
   "metadata": {},
   "outputs": [],
   "source": [
    "circle_df = pd.DataFrame(index=circle_ids.astype(int), data=[], columns=[\"X\", \"Y\"])"
   ]
  },
  {
   "cell_type": "code",
   "execution_count": 19,
   "id": "0b627f36-3114-43cd-bf18-9aa097ee1144",
   "metadata": {},
   "outputs": [],
   "source": [
    "for i in range(16):\n",
    "    for j in range(16):\n",
    "        c_x = 10 + i*15\n",
    "        c_y = 10 + j*15\n",
    "        c_index = int(i*16+j+1)\n",
    "        circle_df.at[c_index, \"X\"] = c_x\n",
    "        circle_df.at[c_index, \"Y\"] = c_y"
   ]
  },
  {
   "cell_type": "code",
   "execution_count": 20,
   "id": "2e6a931a-1564-4091-b65e-42383648921e",
   "metadata": {},
   "outputs": [
    {
     "data": {
      "text/html": [
       "<div>\n",
       "<style scoped>\n",
       "    .dataframe tbody tr th:only-of-type {\n",
       "        vertical-align: middle;\n",
       "    }\n",
       "\n",
       "    .dataframe tbody tr th {\n",
       "        vertical-align: top;\n",
       "    }\n",
       "\n",
       "    .dataframe thead th {\n",
       "        text-align: right;\n",
       "    }\n",
       "</style>\n",
       "<table border=\"1\" class=\"dataframe\">\n",
       "  <thead>\n",
       "    <tr style=\"text-align: right;\">\n",
       "      <th></th>\n",
       "    </tr>\n",
       "  </thead>\n",
       "  <tbody>\n",
       "    <tr>\n",
       "      <th>1006</th>\n",
       "    </tr>\n",
       "    <tr>\n",
       "      <th>1007</th>\n",
       "    </tr>\n",
       "    <tr>\n",
       "      <th>1011</th>\n",
       "    </tr>\n",
       "    <tr>\n",
       "      <th>1012</th>\n",
       "    </tr>\n",
       "    <tr>\n",
       "      <th>1018</th>\n",
       "    </tr>\n",
       "    <tr>\n",
       "      <th>...</th>\n",
       "    </tr>\n",
       "    <tr>\n",
       "      <th>2012</th>\n",
       "    </tr>\n",
       "    <tr>\n",
       "      <th>2016</th>\n",
       "    </tr>\n",
       "    <tr>\n",
       "      <th>2021</th>\n",
       "    </tr>\n",
       "    <tr>\n",
       "      <th>2023</th>\n",
       "    </tr>\n",
       "    <tr>\n",
       "      <th>2024</th>\n",
       "    </tr>\n",
       "  </tbody>\n",
       "</table>\n",
       "<p>218 rows × 0 columns</p>\n",
       "</div>"
      ],
      "text/plain": [
       "Empty DataFrame\n",
       "Columns: []\n",
       "Index: [1006, 1007, 1011, 1012, 1018, 1021, 1028, 1029, 1030, 1041, 1056, 1064, 1068, 1069, 1070, 1073, 1074, 1075, 1081, 1085, 1091, 1099, 1103, 1104, 1110, 1111, 1112, 1117, 1122, 1125, 1126, 1131, 1135, 1136, 1140, 1144, 1150, 1159, 1161, 1164, 1171, 1172, 1185, 1193, 1194, 1199, 1200, 1204, 1209, 1210, 1212, 1219, 1220, 1229, 1238, 1239, 1240, 1245, 1251, 1260, 1261, 1264, 1265, 1266, 1267, 1288, 1289, 1293, 1298, 1304, 1305, 1311, 1321, 1322, 1323, 1335, 1337, 1346, 1347, 1350, 1354, 1355, 1361, 1362, 1369, 1378, 1381, 1389, 1390, 1395, 1396, 1402, 1403, 1419, 1422, 1423, 1428, 1439, 1440, 1441, ...]\n",
       "\n",
       "[218 rows x 0 columns]"
      ]
     },
     "execution_count": 20,
     "metadata": {},
     "output_type": "execute_result"
    }
   ],
   "source": [
    "cell_df"
   ]
  },
  {
   "cell_type": "code",
   "execution_count": 21,
   "id": "2adc9038-88af-4493-a592-4c9f19e976d8",
   "metadata": {},
   "outputs": [
    {
     "data": {
      "text/plain": [
       "array([[   0.,    0.,    0., ..., 1012., 1012., 1012.],\n",
       "       [   0.,    0.,    0., ..., 1012., 1012., 1012.],\n",
       "       [   0.,    0.,    0., ..., 1012., 1012., 1012.],\n",
       "       ...,\n",
       "       [   0.,    0.,    0., ...,    0.,    0.,    0.],\n",
       "       [   0.,    0.,    0., ...,    0.,    0.,    0.],\n",
       "       [   0.,    0.,    0., ...,    0.,    0.,    0.]])"
      ]
     },
     "execution_count": 21,
     "metadata": {},
     "output_type": "execute_result"
    }
   ],
   "source": [
    "multichannel_bitmask_arr[0, :, :]"
   ]
  },
  {
   "cell_type": "code",
   "execution_count": 22,
   "id": "ee3a3b6a-bb4d-4542-be61-5ea3595c53f1",
   "metadata": {},
   "outputs": [],
   "source": [
    "def get_centroid(bitmask_arr, obs_id):\n",
    "    matching_px = np.argwhere(bitmask_arr == obs_id)\n",
    "    count = matching_px.shape[0]\n",
    "    result = matching_px.sum(0) / count\n",
    "    return (result[0], result[1])"
   ]
  },
  {
   "cell_type": "code",
   "execution_count": 23,
   "id": "70b77e9b-6715-4bbc-a09a-ba5e9226acc3",
   "metadata": {},
   "outputs": [],
   "source": [
    "def get_channel_value(bitmask_arr, img_arr, obs_id):\n",
    "    matching_px = (bitmask_arr == obs_id)\n",
    "    matching_img = img_arr[matching_px]\n",
    "    return matching_img.sum() / matching_px.sum()"
   ]
  },
  {
   "cell_type": "code",
   "execution_count": 24,
   "id": "439d6e24-95c2-4050-8e4b-3eeb6c60a31b",
   "metadata": {},
   "outputs": [
    {
     "data": {
      "text/plain": [
       "60204.72093023256"
      ]
     },
     "execution_count": 24,
     "metadata": {},
     "output_type": "execute_result"
    }
   ],
   "source": [
    "get_channel_value(multichannel_bitmask_arr[0, :, :], img_crop_arr[0, :, :], 1011)"
   ]
  },
  {
   "cell_type": "code",
   "execution_count": 25,
   "id": "3d2f4553-181f-4877-a656-247263e97689",
   "metadata": {},
   "outputs": [
    {
     "data": {
      "text/plain": [
       "(1.55, 191.525)"
      ]
     },
     "execution_count": 25,
     "metadata": {},
     "output_type": "execute_result"
    }
   ],
   "source": [
    "get_centroid(multichannel_bitmask_arr[0, :, :], 1006)"
   ]
  },
  {
   "cell_type": "code",
   "execution_count": 26,
   "id": "401454f4-e250-405d-bb15-bc6bc3104018",
   "metadata": {},
   "outputs": [],
   "source": [
    "var_df = pd.DataFrame(index=[\"DNA\", \"FDX1\", \"CD1D\", \"CD357\"], data=[], columns=[])"
   ]
  },
  {
   "cell_type": "code",
   "execution_count": 27,
   "id": "12fa9835-5ba8-49a9-b245-555ea03c8223",
   "metadata": {},
   "outputs": [],
   "source": [
    "cell_df[\"X\"] = [get_centroid(multichannel_bitmask_arr[0, :, :], int(i))[0] for i in cell_df.index]\n",
    "cell_df[\"Y\"] = [get_centroid(multichannel_bitmask_arr[0, :, :], int(i))[1] for i in cell_df.index]"
   ]
  },
  {
   "cell_type": "code",
   "execution_count": 28,
   "id": "7ecae4d3-3eea-4594-b8d1-1c23578a70b1",
   "metadata": {},
   "outputs": [
    {
     "data": {
      "text/html": [
       "<div>\n",
       "<style scoped>\n",
       "    .dataframe tbody tr th:only-of-type {\n",
       "        vertical-align: middle;\n",
       "    }\n",
       "\n",
       "    .dataframe tbody tr th {\n",
       "        vertical-align: top;\n",
       "    }\n",
       "\n",
       "    .dataframe thead th {\n",
       "        text-align: right;\n",
       "    }\n",
       "</style>\n",
       "<table border=\"1\" class=\"dataframe\">\n",
       "  <thead>\n",
       "    <tr style=\"text-align: right;\">\n",
       "      <th></th>\n",
       "      <th>X</th>\n",
       "      <th>Y</th>\n",
       "    </tr>\n",
       "  </thead>\n",
       "  <tbody>\n",
       "    <tr>\n",
       "      <th>1006</th>\n",
       "      <td>1.550000</td>\n",
       "      <td>191.525000</td>\n",
       "    </tr>\n",
       "    <tr>\n",
       "      <th>1007</th>\n",
       "      <td>1.930556</td>\n",
       "      <td>212.305556</td>\n",
       "    </tr>\n",
       "    <tr>\n",
       "      <th>1011</th>\n",
       "      <td>3.232558</td>\n",
       "      <td>48.581395</td>\n",
       "    </tr>\n",
       "    <tr>\n",
       "      <th>1012</th>\n",
       "      <td>1.363636</td>\n",
       "      <td>248.090909</td>\n",
       "    </tr>\n",
       "    <tr>\n",
       "      <th>1018</th>\n",
       "      <td>0.578947</td>\n",
       "      <td>156.631579</td>\n",
       "    </tr>\n",
       "    <tr>\n",
       "      <th>...</th>\n",
       "      <td>...</td>\n",
       "      <td>...</td>\n",
       "    </tr>\n",
       "    <tr>\n",
       "      <th>2012</th>\n",
       "      <td>247.225806</td>\n",
       "      <td>194.161290</td>\n",
       "    </tr>\n",
       "    <tr>\n",
       "      <th>2016</th>\n",
       "      <td>248.214286</td>\n",
       "      <td>217.785714</td>\n",
       "    </tr>\n",
       "    <tr>\n",
       "      <th>2021</th>\n",
       "      <td>248.857143</td>\n",
       "      <td>161.285714</td>\n",
       "    </tr>\n",
       "    <tr>\n",
       "      <th>2023</th>\n",
       "      <td>249.000000</td>\n",
       "      <td>66.000000</td>\n",
       "    </tr>\n",
       "    <tr>\n",
       "      <th>2024</th>\n",
       "      <td>249.000000</td>\n",
       "      <td>205.000000</td>\n",
       "    </tr>\n",
       "  </tbody>\n",
       "</table>\n",
       "<p>218 rows × 2 columns</p>\n",
       "</div>"
      ],
      "text/plain": [
       "               X           Y\n",
       "1006    1.550000  191.525000\n",
       "1007    1.930556  212.305556\n",
       "1011    3.232558   48.581395\n",
       "1012    1.363636  248.090909\n",
       "1018    0.578947  156.631579\n",
       "...          ...         ...\n",
       "2012  247.225806  194.161290\n",
       "2016  248.214286  217.785714\n",
       "2021  248.857143  161.285714\n",
       "2023  249.000000   66.000000\n",
       "2024  249.000000  205.000000\n",
       "\n",
       "[218 rows x 2 columns]"
      ]
     },
     "execution_count": 28,
     "metadata": {},
     "output_type": "execute_result"
    }
   ],
   "source": [
    "cell_df"
   ]
  },
  {
   "cell_type": "code",
   "execution_count": 29,
   "id": "25d7ba6e-f452-4033-af74-7400a356bc7f",
   "metadata": {},
   "outputs": [],
   "source": [
    "cell_X = np.zeros((cell_df.shape[0], var_df.shape[0]))"
   ]
  },
  {
   "cell_type": "code",
   "execution_count": 30,
   "id": "3a7e9751-562f-4bc7-854e-bb382ffff24c",
   "metadata": {},
   "outputs": [],
   "source": [
    "for c_index in range(4):\n",
    "    for i, cell_id in enumerate(cell_df.index):\n",
    "        cell_X[i, c_index] = get_channel_value(multichannel_bitmask_arr[0, :, :], img_crop_arr[c_index, :, :], cell_id)"
   ]
  },
  {
   "cell_type": "code",
   "execution_count": 31,
   "id": "b8b21ea2-33d4-4756-a890-9b67fb40824a",
   "metadata": {},
   "outputs": [
    {
     "name": "stderr",
     "output_type": "stream",
     "text": [
      "/var/folders/36/83j6x3ln225bvbpk1_vdzrm00000gn/T/ipykernel_75334/3333765654.py:1: FutureWarning: X.dtype being converted to np.float32 from float64. In the next version of anndata (0.9) conversion will not be automatic. Pass dtype explicitly to avoid this warning. Pass `AnnData(X, dtype=X.dtype, ...)` to get the future behavour.\n",
      "  adata = AnnData(X=cell_X, obs=cell_df, var=var_df)\n",
      "/Users/mkeller/software/miniconda3/envs/vitessce-python-notebooks/lib/python3.9/site-packages/anndata/_core/anndata.py:121: ImplicitModificationWarning: Transforming to str index.\n",
      "  warnings.warn(\"Transforming to str index.\", ImplicitModificationWarning)\n"
     ]
    }
   ],
   "source": [
    "adata = AnnData(X=cell_X, obs=cell_df, var=var_df)"
   ]
  },
  {
   "cell_type": "code",
   "execution_count": 32,
   "id": "a1ed5534-c301-4af9-9d28-df23483af4ab",
   "metadata": {},
   "outputs": [
    {
     "data": {
      "text/plain": [
       "AnnData object with n_obs × n_vars = 218 × 4\n",
       "    obs: 'X', 'Y'"
      ]
     },
     "execution_count": 32,
     "metadata": {},
     "output_type": "execute_result"
    }
   ],
   "source": [
    "adata"
   ]
  },
  {
   "cell_type": "code",
   "execution_count": 46,
   "id": "37f46887-2f03-4dee-a5e1-9607ee8da2b8",
   "metadata": {},
   "outputs": [],
   "source": [
    "cell_types = [\n",
    "    [\"Astrocyte\", \"Astrocyte Gfap\"],\n",
    "    [\"Astrocyte\", \"Astrocyte Mfge8\"],\n",
    "    [\"Brain immune\", \"Microglia\"],\n",
    "    [\"Brain immune\", \"Perivascular Macrophage\"],\n",
    "    [\"Excitatory neurons\", \"Hippocampus\"]\n",
    "]\n",
    "leiden_clusters = [1, 2, 3, 4, 5, 6, 7, 8, 9]\n",
    "\n",
    "adata.obs[\"cell_type_i\"] = [ i % len(cell_types) for i in range(adata.obs.shape[0])]\n",
    "adata.obs[\"cell_type_coarse\"] = adata.obs[\"cell_type_i\"].apply(lambda i: cell_types[i][0])\n",
    "adata.obs[\"cell_type_fine\"] = adata.obs[\"cell_type_i\"].apply(lambda i: cell_types[i][1])\n",
    "adata.obs[\"leiden_cluster\"] = [ leiden_clusters[i % len(leiden_clusters)] for i in range(adata.obs.shape[0])]\n",
    "adata.obs[\"leiden_cluster_str\"] = [ f\"Cluster {leiden_clusters[i % len(leiden_clusters)] for i in range(adata.obs.shape[0])]"
   ]
  },
  {
   "cell_type": "code",
   "execution_count": 47,
   "id": "da20e8cc-8396-48a6-938e-a643f7680a3b",
   "metadata": {},
   "outputs": [
    {
     "data": {
      "text/html": [
       "<div>\n",
       "<style scoped>\n",
       "    .dataframe tbody tr th:only-of-type {\n",
       "        vertical-align: middle;\n",
       "    }\n",
       "\n",
       "    .dataframe tbody tr th {\n",
       "        vertical-align: top;\n",
       "    }\n",
       "\n",
       "    .dataframe thead th {\n",
       "        text-align: right;\n",
       "    }\n",
       "</style>\n",
       "<table border=\"1\" class=\"dataframe\">\n",
       "  <thead>\n",
       "    <tr style=\"text-align: right;\">\n",
       "      <th></th>\n",
       "      <th>X</th>\n",
       "      <th>Y</th>\n",
       "      <th>cell_type_i</th>\n",
       "      <th>cell_type_coarse</th>\n",
       "      <th>cell_type_fine</th>\n",
       "      <th>leiden_cluster</th>\n",
       "    </tr>\n",
       "  </thead>\n",
       "  <tbody>\n",
       "    <tr>\n",
       "      <th>1006</th>\n",
       "      <td>1.550000</td>\n",
       "      <td>191.525000</td>\n",
       "      <td>0</td>\n",
       "      <td>Astrocyte</td>\n",
       "      <td>Astrocyte Gfap</td>\n",
       "      <td>1</td>\n",
       "    </tr>\n",
       "    <tr>\n",
       "      <th>1007</th>\n",
       "      <td>1.930556</td>\n",
       "      <td>212.305556</td>\n",
       "      <td>1</td>\n",
       "      <td>Astrocyte</td>\n",
       "      <td>Astrocyte Mfge8</td>\n",
       "      <td>2</td>\n",
       "    </tr>\n",
       "    <tr>\n",
       "      <th>1011</th>\n",
       "      <td>3.232558</td>\n",
       "      <td>48.581395</td>\n",
       "      <td>2</td>\n",
       "      <td>Brain immune</td>\n",
       "      <td>Microglia</td>\n",
       "      <td>3</td>\n",
       "    </tr>\n",
       "    <tr>\n",
       "      <th>1012</th>\n",
       "      <td>1.363636</td>\n",
       "      <td>248.090909</td>\n",
       "      <td>3</td>\n",
       "      <td>Brain immune</td>\n",
       "      <td>Perivascular Macrophage</td>\n",
       "      <td>4</td>\n",
       "    </tr>\n",
       "    <tr>\n",
       "      <th>1018</th>\n",
       "      <td>0.578947</td>\n",
       "      <td>156.631579</td>\n",
       "      <td>4</td>\n",
       "      <td>Excitatory neurons</td>\n",
       "      <td>Hippocampus</td>\n",
       "      <td>5</td>\n",
       "    </tr>\n",
       "    <tr>\n",
       "      <th>...</th>\n",
       "      <td>...</td>\n",
       "      <td>...</td>\n",
       "      <td>...</td>\n",
       "      <td>...</td>\n",
       "      <td>...</td>\n",
       "      <td>...</td>\n",
       "    </tr>\n",
       "    <tr>\n",
       "      <th>2012</th>\n",
       "      <td>247.225806</td>\n",
       "      <td>194.161290</td>\n",
       "      <td>3</td>\n",
       "      <td>Brain immune</td>\n",
       "      <td>Perivascular Macrophage</td>\n",
       "      <td>7</td>\n",
       "    </tr>\n",
       "    <tr>\n",
       "      <th>2016</th>\n",
       "      <td>248.214286</td>\n",
       "      <td>217.785714</td>\n",
       "      <td>4</td>\n",
       "      <td>Excitatory neurons</td>\n",
       "      <td>Hippocampus</td>\n",
       "      <td>8</td>\n",
       "    </tr>\n",
       "    <tr>\n",
       "      <th>2021</th>\n",
       "      <td>248.857143</td>\n",
       "      <td>161.285714</td>\n",
       "      <td>0</td>\n",
       "      <td>Astrocyte</td>\n",
       "      <td>Astrocyte Gfap</td>\n",
       "      <td>9</td>\n",
       "    </tr>\n",
       "    <tr>\n",
       "      <th>2023</th>\n",
       "      <td>249.000000</td>\n",
       "      <td>66.000000</td>\n",
       "      <td>1</td>\n",
       "      <td>Astrocyte</td>\n",
       "      <td>Astrocyte Mfge8</td>\n",
       "      <td>1</td>\n",
       "    </tr>\n",
       "    <tr>\n",
       "      <th>2024</th>\n",
       "      <td>249.000000</td>\n",
       "      <td>205.000000</td>\n",
       "      <td>2</td>\n",
       "      <td>Brain immune</td>\n",
       "      <td>Microglia</td>\n",
       "      <td>2</td>\n",
       "    </tr>\n",
       "  </tbody>\n",
       "</table>\n",
       "<p>218 rows × 6 columns</p>\n",
       "</div>"
      ],
      "text/plain": [
       "               X           Y  cell_type_i    cell_type_coarse  \\\n",
       "1006    1.550000  191.525000            0           Astrocyte   \n",
       "1007    1.930556  212.305556            1           Astrocyte   \n",
       "1011    3.232558   48.581395            2        Brain immune   \n",
       "1012    1.363636  248.090909            3        Brain immune   \n",
       "1018    0.578947  156.631579            4  Excitatory neurons   \n",
       "...          ...         ...          ...                 ...   \n",
       "2012  247.225806  194.161290            3        Brain immune   \n",
       "2016  248.214286  217.785714            4  Excitatory neurons   \n",
       "2021  248.857143  161.285714            0           Astrocyte   \n",
       "2023  249.000000   66.000000            1           Astrocyte   \n",
       "2024  249.000000  205.000000            2        Brain immune   \n",
       "\n",
       "               cell_type_fine  leiden_cluster  \n",
       "1006           Astrocyte Gfap               1  \n",
       "1007          Astrocyte Mfge8               2  \n",
       "1011                Microglia               3  \n",
       "1012  Perivascular Macrophage               4  \n",
       "1018              Hippocampus               5  \n",
       "...                       ...             ...  \n",
       "2012  Perivascular Macrophage               7  \n",
       "2016              Hippocampus               8  \n",
       "2021           Astrocyte Gfap               9  \n",
       "2023          Astrocyte Mfge8               1  \n",
       "2024                Microglia               2  \n",
       "\n",
       "[218 rows x 6 columns]"
      ]
     },
     "execution_count": 47,
     "metadata": {},
     "output_type": "execute_result"
    }
   ],
   "source": [
    "adata.obs"
   ]
  },
  {
   "cell_type": "code",
   "execution_count": 33,
   "id": "a3950efb-38e9-4f78-802b-624d5fbbec66",
   "metadata": {},
   "outputs": [
    {
     "name": "stderr",
     "output_type": "stream",
     "text": [
      "/Users/mkeller/software/miniconda3/envs/vitessce-python-notebooks/lib/python3.9/site-packages/scanpy/plotting/_anndata.py:1068: FutureWarning: is_categorical_dtype is deprecated and will be removed in a future version. Use isinstance(dtype, CategoricalDtype) instead\n",
      "  if isinstance(groupby, str) and is_categorical_dtype(adata.obs[groupby]):\n"
     ]
    },
    {
     "data": {
      "image/png": "[encoded data removed]",
      "text/plain": [
       "<Figure size 1000x85 with 3 Axes>"
      ]
     },
     "metadata": {},
     "output_type": "display_data"
    }
   ],
   "source": [
    "ax = sc.pl.heatmap(adata, var_names = var_df.index.tolist(), groupby=\"X\", standard_scale=\"var\", swap_axes=True)"
   ]
  },
  {
   "cell_type": "code",
   "execution_count": 34,
   "id": "abb4c395-3102-4205-8cbf-e7796f6b866b",
   "metadata": {},
   "outputs": [],
   "source": [
    "adata.write_zarr(\"/Users/mkeller/Downloads/exemplar-001.crop.cells.adata.zarr\")"
   ]
  },
  {
   "cell_type": "code",
   "execution_count": 35,
   "id": "9c97045b-85a2-4ff8-bd62-4d777bbf4fd7",
   "metadata": {},
   "outputs": [
    {
     "data": {
      "text/html": [
       "<div>\n",
       "<style scoped>\n",
       "    .dataframe tbody tr th:only-of-type {\n",
       "        vertical-align: middle;\n",
       "    }\n",
       "\n",
       "    .dataframe tbody tr th {\n",
       "        vertical-align: top;\n",
       "    }\n",
       "\n",
       "    .dataframe thead th {\n",
       "        text-align: right;\n",
       "    }\n",
       "</style>\n",
       "<table border=\"1\" class=\"dataframe\">\n",
       "  <thead>\n",
       "    <tr style=\"text-align: right;\">\n",
       "      <th></th>\n",
       "      <th>X</th>\n",
       "      <th>Y</th>\n",
       "    </tr>\n",
       "  </thead>\n",
       "  <tbody>\n",
       "    <tr>\n",
       "      <th>1</th>\n",
       "      <td>10</td>\n",
       "      <td>10</td>\n",
       "    </tr>\n",
       "    <tr>\n",
       "      <th>2</th>\n",
       "      <td>10</td>\n",
       "      <td>25</td>\n",
       "    </tr>\n",
       "    <tr>\n",
       "      <th>3</th>\n",
       "      <td>10</td>\n",
       "      <td>40</td>\n",
       "    </tr>\n",
       "    <tr>\n",
       "      <th>4</th>\n",
       "      <td>10</td>\n",
       "      <td>55</td>\n",
       "    </tr>\n",
       "    <tr>\n",
       "      <th>5</th>\n",
       "      <td>10</td>\n",
       "      <td>70</td>\n",
       "    </tr>\n",
       "    <tr>\n",
       "      <th>...</th>\n",
       "      <td>...</td>\n",
       "      <td>...</td>\n",
       "    </tr>\n",
       "    <tr>\n",
       "      <th>252</th>\n",
       "      <td>235</td>\n",
       "      <td>175</td>\n",
       "    </tr>\n",
       "    <tr>\n",
       "      <th>253</th>\n",
       "      <td>235</td>\n",
       "      <td>190</td>\n",
       "    </tr>\n",
       "    <tr>\n",
       "      <th>254</th>\n",
       "      <td>235</td>\n",
       "      <td>205</td>\n",
       "    </tr>\n",
       "    <tr>\n",
       "      <th>255</th>\n",
       "      <td>235</td>\n",
       "      <td>220</td>\n",
       "    </tr>\n",
       "    <tr>\n",
       "      <th>256</th>\n",
       "      <td>235</td>\n",
       "      <td>235</td>\n",
       "    </tr>\n",
       "  </tbody>\n",
       "</table>\n",
       "<p>256 rows × 2 columns</p>\n",
       "</div>"
      ],
      "text/plain": [
       "       X    Y\n",
       "1     10   10\n",
       "2     10   25\n",
       "3     10   40\n",
       "4     10   55\n",
       "5     10   70\n",
       "..   ...  ...\n",
       "252  235  175\n",
       "253  235  190\n",
       "254  235  205\n",
       "255  235  220\n",
       "256  235  235\n",
       "\n",
       "[256 rows x 2 columns]"
      ]
     },
     "execution_count": 35,
     "metadata": {},
     "output_type": "execute_result"
    }
   ],
   "source": [
    "circle_df"
   ]
  },
  {
   "cell_type": "code",
   "execution_count": 36,
   "id": "a0923acc-a263-48ac-8965-f77a536dce2a",
   "metadata": {},
   "outputs": [
    {
     "name": "stderr",
     "output_type": "stream",
     "text": [
      "/Users/mkeller/software/miniconda3/envs/vitessce-python-notebooks/lib/python3.9/site-packages/anndata/_core/anndata.py:121: ImplicitModificationWarning: Transforming to str index.\n",
      "  warnings.warn(\"Transforming to str index.\", ImplicitModificationWarning)\n",
      "/Users/mkeller/software/miniconda3/envs/vitessce-python-notebooks/lib/python3.9/site-packages/anndata/_core/anndata.py:121: ImplicitModificationWarning: Transforming to str index.\n",
      "  warnings.warn(\"Transforming to str index.\", ImplicitModificationWarning)\n"
     ]
    }
   ],
   "source": [
    "circle_adata = AnnData(X=None, obs=circle_df, var=pd.DataFrame(data=[]))"
   ]
  },
  {
   "cell_type": "code",
   "execution_count": 37,
   "id": "887679dc-a9a8-4a7e-8da2-a527634e5d01",
   "metadata": {},
   "outputs": [],
   "source": [
    "circle_adata.obs['X'] = circle_adata.obs['X'].astype(int)\n",
    "circle_adata.obs['Y'] = circle_adata.obs['Y'].astype(int)"
   ]
  },
  {
   "cell_type": "code",
   "execution_count": 38,
   "id": "be19ef76-27c3-42a8-89ca-326b1d835f66",
   "metadata": {},
   "outputs": [],
   "source": [
    "circle_adata.write_zarr(\"/Users/mkeller/Downloads/exemplar-001.crop.circles.adata.zarr\")"
   ]
  },
  {
   "cell_type": "code",
   "execution_count": null,
   "id": "16eca51a-2c94-4091-9eae-9adf52bcd081",
   "metadata": {},
   "outputs": [],
   "source": []
  }
 ],
 "metadata": {
  "kernelspec": {
   "display_name": "Python 3 (ipykernel)",
   "language": "python",
   "name": "python3"
  },
  "language_info": {
   "codemirror_mode": {
    "name": "ipython",
    "version": 3
   },
   "file_extension": ".py",
   "mimetype": "text/x-python",
   "name": "python",
   "nbconvert_exporter": "python",
   "pygments_lexer": "ipython3",
   "version": "3.9.0"
  }
 },
 "nbformat": 4,
 "nbformat_minor": 5
}

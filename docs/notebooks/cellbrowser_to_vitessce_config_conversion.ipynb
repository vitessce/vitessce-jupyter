{
 "cells": [
  {
   "cell_type": "markdown",
   "id": "710bc947",
   "metadata": {},
   "source": [
    "# Load Cell Browser browser into Vitessce"
   ]
  },
  {
   "cell_type": "markdown",
   "id": "fad939f6-bd8b-46f8-8dd1-f0816d8ca5b3",
   "metadata": {},
   "source": [
    "This notebooks shows you how to use two scripts, part of the python-vitessce libaray, which allow you to take an existing project, published in https://cells.ucsc.edu/ and either:\n",
    "1. Convert it into format that is supported by Vitessce and load it into Vitessce using the [automatic view config generation option](http://localhost:3001/docs/default-config-json/),\n",
    "or:\n",
    "2. Get the Vitessce view config JSON directly.\n",
    "\n",
    "For both of these options, the dataset that you choose to convert needs to be a valid project, accessible from here: https://cells.ucsc.edu/, with configuration available in here: https://github.com/ucscGenomeBrowser/cellbrowser-confs\n",
    "\n",
    "Each of the scripts needs the name of that project as an input. For example to convert this project: https://cells.ucsc.edu/?ds=adultPancreas, you will neeed to pass `adultPancreas` as a project name for either of the scripts."
   ]
  },
  {
   "cell_type": "markdown",
   "id": "a8077cfd-abc2-488d-9d91-83bc29a0bbe9",
   "metadata": {},
   "source": [
    "## 1. Covert UCSC Cell Browser project to a format that is supported by Vitessce\n",
    "#### Ouput:\n",
    "An Anndata-Zarr object, saved in `vitessce-files/project_name.out.adata.zarr` directory by default on your computer.\n",
    "Check the documentation for more information on each of the parameters available for this function.\n",
    "\n",
    "#### How to load the output in Vitessce:\n",
    "A) Upload the Anndata-Zarr object, returned by the script, to a publicly available HTTP store\n",
    "B) Paste the URL to the Anndata-Zarr object in http://vitessce.io/#?edit=true to generate a view config (see the docs about [automatic view config generation option](http://localhost:3001/docs/default-config-json/))."
   ]
  },
  {
   "cell_type": "code",
   "execution_count": 4,
   "id": "532fea6a-69d4-4cac-8afb-6d334dbe7ca1",
   "metadata": {},
   "outputs": [],
   "source": [
    "# Import the relevant function\n",
    "from vitessce import (convert_cell_browser_project_to_anndata)"
   ]
  },
  {
   "cell_type": "code",
   "execution_count": 5,
   "id": "6fb3e7dc-baf8-49e9-9d24-264bcd668b49",
   "metadata": {},
   "outputs": [
    {
     "name": "stdout",
     "output_type": "stream",
     "text": [
      "Converting CellBrowser config for project adultPancreas to Anndata-Zarr object and saving it to vitessce-files\n",
      "Successfully fetched configuration: https://cells.ucsc.edu/adultPancreas/dataset.json.\n",
      "CellBrowser config is valid. Proceeding further with conversion.\n",
      "Downloading expression matrix ...\n",
      "Successfully downloaded expression matrix https://cells.ucsc.edu/adultPancreas/exprMatrix.tsv.gz.\n",
      "Loading expression matrix into Anndata object ...\n",
      "This dataset uses the format identifier|symbol for the ad.obs gene names (e.g. “ENSG0123123.3|HOX3”). We are keeping only the symbol.\n",
      "Successfully loaded expression matrix into Anndata object.\n",
      "save_intermediate_object is False. The current version of the Anndata object is not saved.\n",
      "Adding cell metadata to Anndata object ...\n",
      "Successfully downloaded metadata meta.tsv.\n",
      "save_intermediate_object is False. The current version of the Anndata object is not saved.\n",
      "Successful extraction of the following coordinates and URLS: {'X_tsne': 'tMinusSNE.coords.tsv.gz'}\n",
      "Adding X_tsne to Anndata object ...\n",
      "X_tsne successfully added.\n",
      "Done adding coordinates to the Anndata object.\n",
      "save_intermediate_object is False. The current version of the Anndata object is not saved.\n",
      "save_intermediate_object is False. The current version of the Anndata object is not saved.\n",
      "About to write the Anndata object to the Zarr store. The following properties will be saved:\n",
      "  Obs columns: ['cluster', 'age', 'age_unit', 'Key', 'experiment_name', 'fragAnalyzerRange', 'nCells', 'ng_ul', 'plate_nr', 'sample_recieve_date', 'chip_type', 'c1_chip_id', 'enrichment_method', 'capture_position', 'gene_body_coverage', 'intron_exon_ratio', 'mapped_reads', 'total_reads', 'n_genes']\n",
      "  Obsm keys: ['X_tsne']\n",
      "  Var columns: ['gene', 'n_cells']\n",
      "obsm X_tsne is an instance of DataFrame, converting it to numpy array.\n",
      "Successfully saved Anndata object to the Zarr store.\n"
     ]
    }
   ],
   "source": [
    "# Example run, coverting \"adultPancreas\" project:\n",
    "convert_cell_browser_project_to_anndata(project_name=\"adultPancreas\")"
   ]
  },
  {
   "cell_type": "markdown",
   "id": "1cd80fd6-317e-4dde-871a-767e55c49636",
   "metadata": {},
   "source": [
    "## 2. Covert UCSC Cell Browser project to a Vitessce view config\n",
    "#### Ouputs:\n",
    "- An Anndata object, saved in `vitessce-files/project_name/out.adata.h5ad` by default on your computer.\n",
    "- A JSON, representing the Vitessce view config for the project.\n",
    "Check the documentation for more information on each of the parameters available for this function.\n",
    "\n",
    "#### How to load the output in Vitessce:\n",
    "A) Upload the Anndata object, returned by the script, to a publicly available HTTP store.\n",
    "B) Paste the Vitessce view config JSON in [Vitessce](http://vitessce.io/#?edit=true). In `files`, under `url` add the URL of the Anndata object obtained from the previous step."
   ]
  },
  {
   "cell_type": "code",
   "execution_count": 2,
   "id": "88cdfe38-4db9-48bd-9a77-9d02be9d0a5a",
   "metadata": {},
   "outputs": [],
   "source": [
    "# Import the relevant function\n",
    "from vitessce import (convert_cellbrowser_project_to_vitessce_config)"
   ]
  },
  {
   "cell_type": "code",
   "execution_count": 3,
   "id": "93652581-24ba-421f-a9e7-0e3cadff8505",
   "metadata": {},
   "outputs": [
    {
     "name": "stdout",
     "output_type": "stream",
     "text": [
      "Converting CellBrowser config for project adultPancreas to Vitessce view config\n",
      "Successfully fetched configuration: https://cells.ucsc.edu/adultPancreas/dataset.json.\n",
      "CellBrowser config is valid. Proceeding further with conversion.\n",
      "Downloading expression matrix ...\n",
      "Successfully downloaded expression matrix https://cells.ucsc.edu/adultPancreas/exprMatrix.tsv.gz.\n",
      "Loading expression matrix into Anndata object ...\n",
      "This dataset uses the format identifier|symbol for the ad.obs gene names (e.g. “ENSG0123123.3|HOX3”). We are keeping only the symbol.\n",
      "Successfully loaded expression matrix into Anndata object.\n",
      "save_intermediate_object is False. The current version of the Anndata object is not saved.\n",
      "Adding cell metadata to Anndata object ...\n",
      "Successfully downloaded metadata meta.tsv.\n",
      "save_intermediate_object is False. The current version of the Anndata object is not saved.\n",
      "Successful extraction of the following coordinates and URLS: {'X_tsne': 'tMinusSNE.coords.tsv.gz'}\n",
      "Adding X_tsne to Anndata object ...\n",
      "X_tsne successfully added.\n",
      "Done adding coordinates to the Anndata object.\n",
      "save_intermediate_object is False. The current version of the Anndata object is not saved.\n",
      "save_intermediate_object is False. The current version of the Anndata object is not saved.\n",
      "Saving the current version of the Anndata object to vitessce-files/adultPancreas/out.adata.h5ad ...\n",
      "Anndata object is saved.\n",
      "CellBrowser config finished conversion. Here is your Vitessce view config:\n",
      "{\"version\": \"1.0.15\", \"name\": \"Vitessce configuration for CellBrowser project adultPancreas\", \"description\": \"\", \"datasets\": [{\"uid\": \"A\", \"name\": \"\", \"files\": []}], \"coordinationSpace\": {\"dataset\": {\"A\": \"A\"}, \"embeddingType\": {\"A\": \"X_tsne\"}}, \"layout\": [{\"component\": \"scatterplot\", \"coordinationScopes\": {\"dataset\": \"A\", \"embeddingType\": \"A\"}, \"x\": 0.0, \"y\": 0.0, \"w\": 6.0, \"h\": 6.0}, {\"component\": \"obsSets\", \"coordinationScopes\": {\"dataset\": \"A\"}, \"x\": 6.0, \"y\": 0.0, \"w\": 6.0, \"h\": 3.0}, {\"component\": \"featureList\", \"coordinationScopes\": {\"dataset\": \"A\"}, \"x\": 6.0, \"y\": 3.0, \"w\": 6.0, \"h\": 3.0}, {\"component\": \"heatmap\", \"coordinationScopes\": {\"dataset\": \"A\"}, \"x\": 0, \"y\": 6.0, \"w\": 12, \"h\": 6.0}], \"initStrategy\": \"auto\"}\n",
      "NOTE: make sure that the path under files.url is accessible from the browser.\n"
     ]
    }
   ],
   "source": [
    "# Example run, coverting \"adultPancreas\" project:\n",
    "convert_cellbrowser_project_to_vitessce_config(project_name=\"adultPancreas\")"
   ]
  },
  {
   "cell_type": "code",
   "execution_count": null,
   "id": "774b8156-5cc6-4d17-884b-595957366230",
   "metadata": {},
   "outputs": [],
   "source": []
  }
 ],
 "metadata": {
  "kernelspec": {
   "display_name": "Python 3 (ipykernel)",
   "language": "python",
   "name": "python3"
  },
  "language_info": {
   "codemirror_mode": {
    "name": "ipython",
    "version": 3
   },
   "file_extension": ".py",
   "mimetype": "text/x-python",
   "name": "python",
   "nbconvert_exporter": "python",
   "pygments_lexer": "ipython3",
   "version": "3.8.0"
  }
 },
 "nbformat": 4,
 "nbformat_minor": 5
}

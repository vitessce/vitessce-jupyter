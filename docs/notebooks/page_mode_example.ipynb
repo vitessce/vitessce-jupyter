{
 "cells": [
  {
   "cell_type": "markdown",
   "metadata": {
    "nbsphinx": "hidden"
   },
   "source": [
    "# Vitessce Widget Tutorial"
   ]
  },
  {
   "cell_type": "markdown",
   "metadata": {},
   "source": [
    "# Visualization of ComparativeData object"
   ]
  },
  {
   "cell_type": "code",
   "execution_count": null,
   "metadata": {},
   "outputs": [],
   "source": [
    "# dask version: 2023.8.0"
   ]
  },
  {
   "cell_type": "code",
   "execution_count": null,
   "metadata": {},
   "outputs": [],
   "source": [
    "# git checkout keller-mark/uv-and-pagemode\n",
    "# source .venv/bin/activate\n",
    "# uv sync --extra all\n",
    "# uv pip install -e \"../compasce\"\n",
    "# uv run jupyter lab"
   ]
  },
  {
   "cell_type": "code",
   "execution_count": null,
   "metadata": {},
   "outputs": [],
   "source": [
    "#!uv pip install -e \"../../../compasce\""
   ]
  },
  {
   "cell_type": "code",
   "execution_count": null,
   "metadata": {},
   "outputs": [],
   "source": [
    "!pwd"
   ]
  },
  {
   "cell_type": "code",
   "execution_count": null,
   "metadata": {},
   "outputs": [],
   "source": [
    "from compasce import run_all, create_dask_client\n",
    "from anndata import read_h5ad\n",
    "from os.path import join"
   ]
  },
  {
   "cell_type": "code",
   "execution_count": null,
   "metadata": {},
   "outputs": [],
   "source": [
    "DATA_DIR = join(\"..\", \"..\", \"..\", \"compasce\")"
   ]
  },
  {
   "cell_type": "code",
   "execution_count": null,
   "metadata": {},
   "outputs": [],
   "source": [
    "def get_adata():\n",
    "    adata = read_h5ad(join(DATA_DIR, \"KPMP_PREMIERE_SC_version1.5_ForExplorer_withRC.032624.h5ad\"))\n",
    "    # Restrict to a subset of data when in the notebook, for now.\n",
    "    adata = adata[0:25_000, 0:20_000].copy()\n",
    "    adata.layers[\"counts\"] = adata.raw[0:25_000, 0:20_000].X.todense()\n",
    "    adata.raw = None\n",
    "    return adata"
   ]
  },
  {
   "cell_type": "code",
   "execution_count": null,
   "metadata": {},
   "outputs": [],
   "source": [
    "sample_id_col = \"SampleID\"\n",
    "sample_group_pairs = [\n",
    "    [\n",
    "      ['diseasetype', 'AKI'],\n",
    "      ['diseasetype', 'Reference'],\n",
    "    ],\n",
    "    [\n",
    "      ['diseasetype', 'AKI'],\n",
    "      ['diseasetype', 'CKD'],\n",
    "    ],\n",
    "    [\n",
    "      ['diseasetype', 'CKD'],\n",
    "      ['diseasetype', 'Reference'],\n",
    "    ],\n",
    "]"
   ]
  },
  {
   "cell_type": "code",
   "execution_count": null,
   "metadata": {},
   "outputs": [],
   "source": [
    "run_all(\n",
    "    get_adata,\n",
    "    zarr_path=join(DATA_DIR, \"kpmp_premiere.cdata.zarr\"),\n",
    "    client=create_dask_client(memory_limit='2GB'),\n",
    "    sample_id_col=sample_id_col,\n",
    "    sample_group_pairs=sample_group_pairs,\n",
    ")"
   ]
  },
  {
   "cell_type": "markdown",
   "metadata": {},
   "source": [
    "## Configure Vitessce"
   ]
  },
  {
   "cell_type": "code",
   "execution_count": null,
   "metadata": {},
   "outputs": [],
   "source": [
    "#!uv pip install esbuild_py"
   ]
  },
  {
   "cell_type": "code",
   "execution_count": 12,
   "metadata": {},
   "outputs": [],
   "source": [
    "from vitessce import (\n",
    "    VitessceConfig,\n",
    "    Component as cm,\n",
    "    CoordinationType as ct,\n",
    "    AnnDataWrapper,\n",
    "    CsvWrapper,\n",
    ")\n",
    "from esbuild_py import transform"
   ]
  },
  {
   "cell_type": "markdown",
   "metadata": {},
   "source": [
    "## Configure the data and views"
   ]
  },
  {
   "cell_type": "code",
   "execution_count": 13,
   "metadata": {},
   "outputs": [
    {
     "data": {
      "text/plain": [
       "<vitessce.config.VitessceConfig at 0x177917d30>"
      ]
     },
     "execution_count": 13,
     "metadata": {},
     "output_type": "execute_result"
    }
   ],
   "source": [
    "vc = VitessceConfig(schema_version=\"1.0.17\", name='ComparativeData example')\n",
    "dataset = vc.add_dataset(name='KPMP Atlas Data').add_object(\n",
    "    AnnDataWrapper(\n",
    "        adata_url=\"https://storage.googleapis.com/vitessce-demo-data/scmd-analysis-october-2023/lake_et_al.2.h5ad.zarr\",\n",
    "        obs_feature_matrix_path='layers/normalize_pearson_residuals',\n",
    "        obs_embedding_paths=['obsm/X_densmap'],\n",
    "        obs_embedding_names=['densMAP'],\n",
    "        obs_set_paths=['obs/cell_type'],\n",
    "        obs_set_names=['Cell Type'],\n",
    "        feature_labels_path='var/feature_name',\n",
    "        sample_edges_path='obs/donor_id', # TODO: does this need to be implemented in the wrapper class?\n",
    "        coordination_values={\n",
    "          \"obsType\": 'cell',\n",
    "          \"featureType\": 'gene',\n",
    "          \"featureValueType\": 'expression',\n",
    "          \"sampleType\": 'sample',\n",
    "        }\n",
    "    )\n",
    ").add_object(\n",
    "    CsvWrapper(\n",
    "        csv_url=\"https://storage.googleapis.com/vitessce-demo-data/scmd-analysis-october-2023/20231129_OpenAccessClinicalData.csv\",\n",
    "        data_type=\"sampleSets\",\n",
    "        options={\n",
    "          \"sampleIndex\": 'Participant ID',\n",
    "          \"sampleSets\": [\n",
    "            {\n",
    "              \"name\": 'Tissue Type',\n",
    "              \"column\": 'Tissue Type',\n",
    "            },\n",
    "            {\n",
    "              \"name\": 'Hypertension',\n",
    "              \"column\": 'Hypertension',\n",
    "            },\n",
    "          ],\n",
    "        },\n",
    "        coordination_values={\n",
    "          \"sampleType\": 'sample',\n",
    "        },\n",
    "    )\n",
    ")\n",
    "biomarker_select_view = vc.add_view(\"biomarkerSelect\", dataset=dataset, uid=\"biomarker-select\").set_props(\n",
    "    stratificationOptions=[\n",
    "      {\n",
    "        \"stratificationId\": 'aki-vs-hr',\n",
    "        \"name\": 'Acute kidney injury (AKI) vs. Healthy reference',\n",
    "        \"stratificationType\": 'sampleSet', #// key changed from 'groupType'. value changed from 'clinical'\n",
    "        \"sampleSets\": [\n",
    "          ['Tissue Type', 'AKI'],\n",
    "          ['Tissue Type', 'Healthy Reference'],\n",
    "        ],\n",
    "      },\n",
    "      {\n",
    "        \"stratificationId\": 'aki-vs-hckd',\n",
    "        \"name\": 'Acute kidney injury (AKI) vs. Chronic kidney disease attributed to hypertension (H-CKD)',\n",
    "        \"stratificationType\": 'sampleSet',\n",
    "        \"sampleSets\": [\n",
    "          ['Tissue Type', 'AKI'],\n",
    "          ['Tissue Type', 'CKD'],\n",
    "        ],\n",
    "      },\n",
    "      {\n",
    "        \"stratificationId\": 'dckd-vs-hr',\n",
    "        \"name\": 'Chronic kidney disease attributed to diabetes (D-CKD) vs. Healthy reference',\n",
    "        \"stratificationType\": 'sampleSet',\n",
    "        \"sampleSets\": [\n",
    "          ['Tissue Type', 'CKD'],\n",
    "          ['Tissue Type', 'Healthy Reference'],\n",
    "        ],\n",
    "      },\n",
    "    ]\n",
    ")\n",
    "scatterplot = vc.add_view('scatterplot', dataset=dataset, uid='scatterplot-case').set_props(title='CKD')\n",
    "scatterplot2 = vc.add_view('scatterplot', dataset=dataset, uid='scatterplot-control').set_props(title='Healthy Reference')\n",
    "obsSets = vc.add_view('obsSets', dataset=dataset, uid='cell-sets')\n",
    "obsSetSizes = vc.add_view('obsSetSizes', dataset=dataset)\n",
    "featureList = vc.add_view('featureList', dataset=dataset)\n",
    "violinPlots = vc.add_view('obsSetFeatureValueDistribution', dataset=dataset, uid='violin-plot')\n",
    "dotPlot = vc.add_view('dotPlot', dataset=dataset, uid='dot-plot')\n",
    "\n",
    "sampleSetScope_case, sampleSetScope_control, sampleSetScope_caseControl = vc.add_coordination(\"sampleSetSelection\", \"sampleSetSelection\", \"sampleSetSelection\")\n",
    "sampleSetScope_case.set_value([['Tissue Type', 'CKD']])\n",
    "sampleSetScope_control.set_value([['Tissue Type', 'Healthy Reference']])\n",
    "sampleSetScope_caseControl.set_value([['Tissue Type', 'CKD'], ['Tissue Type', 'Healthy Reference']])\n",
    "\n",
    "vc.link_views_by_dict([scatterplot], {\n",
    "    \"embeddingType\": 'densMAP',\n",
    "    \"embeddingContoursVisible\": True,\n",
    "    \"embeddingPointsVisible\": False,\n",
    "    \"sampleType\": 'sample',\n",
    "    \"sampleSetSelection\": sampleSetScope_case,\n",
    "}, meta=False)\n",
    "vc.link_views_by_dict([scatterplot2], {\n",
    "    \"embeddingType\": 'densMAP',\n",
    "    \"embeddingContoursVisible\": True,\n",
    "    \"embeddingPointsVisible\": False,\n",
    "    \"sampleType\": 'sample',\n",
    "    \"sampleSetSelection\": sampleSetScope_control,\n",
    "}, meta=False)\n",
    "\n",
    "vc.link_views([obsSets, obsSetSizes, featureList, violinPlots, dotPlot], ['sampleType'], ['sample']);\n",
    "vc.link_views_by_dict([obsSets, obsSetSizes, featureList, violinPlots, dotPlot], {\n",
    "    \"sampleSetSelection\": sampleSetScope_caseControl,\n",
    "}, meta=False)\n",
    "vc.link_views_by_dict([scatterplot, scatterplot2, violinPlots, featureList, dotPlot], {\n",
    "    \"featureSelection\": ['ENSG00000169344'], # // , 'ENSG00000074803', 'ENSG00000164825'],\n",
    "    \"obsColorEncoding\": 'geneSelection',\n",
    "    \"featureValueColormapRange\": [0, 0.25],\n",
    "}, meta=False)\n",
    "\n",
    "vc.link_views_by_dict([scatterplot, scatterplot2], {\n",
    "    \"embeddingZoom\": None,\n",
    "    \"embeddingTargetX\": None,\n",
    "    \"embeddingTargetY\": None,\n",
    "}, meta=False)"
   ]
  },
  {
   "cell_type": "code",
   "execution_count": 14,
   "metadata": {},
   "outputs": [],
   "source": [
    "# vc.to_dict(base_url=\"\")"
   ]
  },
  {
   "cell_type": "markdown",
   "metadata": {
    "tags": []
   },
   "source": [
    "## Define the page layout"
   ]
  },
  {
   "cell_type": "code",
   "execution_count": 15,
   "metadata": {},
   "outputs": [],
   "source": [
    "# Reference: https://github.com/vitessce/vitessce/blob/main/examples/configs/src/view-configs/lake-2023.js\n",
    "PAGE_ESM = transform(\"\"\"\n",
    "function createPage(utilsForPages) {\n",
    "  const {\n",
    "    React,\n",
    "    usePageModeView,\n",
    "  } = utilsForPages;\n",
    "  function PageComponent(props) {\n",
    "    const BiomarkerSelect = usePageModeView('biomarker-select');\n",
    "    const ScatterplotCase = usePageModeView('scatterplot-case');\n",
    "    const ScatterplotControl = usePageModeView('scatterplot-control');\n",
    "    const CellSets = usePageModeView('cell-sets');\n",
    "    const ViolinPlot = usePageModeView('violin-plot');\n",
    "    const DotPlot = usePageModeView('dot-plot');\n",
    "    \n",
    "    return (\n",
    "        <>\n",
    "          <style>{`\n",
    "          h1, h2, h3, h4, h5, h6 {\n",
    "            font-family: sans-serif;\n",
    "          }\n",
    "          h1 {\n",
    "            font-weight: normal;\n",
    "          }\n",
    "          h2 {\n",
    "            font-size: 36px;\n",
    "          }\n",
    "          h3 {\n",
    "            font-size: 28px;\n",
    "          }\n",
    "          `}\n",
    "          </style>\n",
    "          <div style={{ width: '100%' }}>\n",
    "              <h1>Comparative visualization of single-cell atlas data</h1>\n",
    "              <BiomarkerSelect />\n",
    "          </div>\n",
    "\n",
    "          <div style={{ width: '100%', display: 'flex', flexDirection: 'row' }}>\n",
    "            <div style={{ width: '100%'}}>\n",
    "              <div style={{ width: '100%', display: 'flex', flexDirection: 'row' }}>\n",
    "                <div style={{ width: '45%' }}><h2>Chronic Kidney Disease</h2></div>\n",
    "                <div style={{ width: '5%' }}><h2 style={{ textAlign: 'right' }}>vs.&nbsp;</h2></div>\n",
    "                <div style={{ width: '50%' }}><h2>Healthy Reference</h2></div>\n",
    "              </div>\n",
    "              <h3>Cell type-level representations</h3>\n",
    "              <div style={{ width: '100%', height: '800px', display: 'flex', flexDirection: 'row' }}>\n",
    "                <div style={{ width: '50%' }}>\n",
    "                  <ScatterplotCase />\n",
    "                </div>\n",
    "                <div style={{ width: '50%' }}>\n",
    "                  <ScatterplotControl />\n",
    "                </div>\n",
    "              </div>\n",
    "              <div style={{ width: '100%', height: '500px' }}>\n",
    "                <ViolinPlot />\n",
    "              </div>\n",
    "              <div style={{ width: '100%', height: '500px' }}>\n",
    "                <DotPlot />\n",
    "              </div>\n",
    "            </div>\n",
    "            <div style={{ width: '14%', height: '500px', marginTop: '213px' }}>\n",
    "              <CellSets />\n",
    "            </div>\n",
    "          </div>\n",
    "\n",
    "        </>\n",
    "      );\n",
    "  }\n",
    "  return PageComponent;\n",
    "}\n",
    "export default { createPage };\n",
    "\"\"\")"
   ]
  },
  {
   "cell_type": "markdown",
   "metadata": {},
   "source": [
    "## Render page as widget"
   ]
  },
  {
   "cell_type": "code",
   "execution_count": 16,
   "metadata": {},
   "outputs": [
    {
     "data": {
      "application/vnd.jupyter.widget-view+json": {
       "model_id": "4a2ef58904b34cb38cc97eb7330364a5",
       "version_major": 2,
       "version_minor": 1
      },
      "text/plain": [
       "VitessceWidget(config={'version': '1.0.17', 'name': 'ComparativeData example', 'description': '', 'datasets': …"
      ]
     },
     "execution_count": 16,
     "metadata": {},
     "output_type": "execute_result"
    }
   ],
   "source": [
    "vw = vc.widget(js_package_version='3.5.1', page_esm=PAGE_ESM, page_mode=True, height=3000)\n",
    "vw"
   ]
  },
  {
   "cell_type": "code",
   "execution_count": null,
   "metadata": {},
   "outputs": [],
   "source": []
  },
  {
   "cell_type": "code",
   "execution_count": null,
   "metadata": {},
   "outputs": [],
   "source": []
  }
 ],
 "metadata": {
  "kernelspec": {
   "display_name": "Python 3 (ipykernel)",
   "language": "python",
   "name": "python3"
  },
  "language_info": {
   "codemirror_mode": {
    "name": "ipython",
    "version": 3
   },
   "file_extension": ".py",
   "mimetype": "text/x-python",
   "name": "python",
   "nbconvert_exporter": "python",
   "pygments_lexer": "ipython3",
   "version": "3.10.14"
  }
 },
 "nbformat": 4,
 "nbformat_minor": 4
}

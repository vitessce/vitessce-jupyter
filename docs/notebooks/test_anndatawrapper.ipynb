{
 "cells": [
  {
   "cell_type": "code",
   "execution_count": 1,
   "metadata": {},
   "outputs": [],
   "source": [
    "%load_ext autoreload\n",
    "%autoreload 2\n",
    "\n",
    "import os\n",
    "from os.path import join, isfile, isdir\n",
    "from urllib.request import urlretrieve\n",
    "from anndata import read_h5ad\n",
    "import scanpy as sc\n",
    "\n",
    "from vitessce import (\n",
    "    VitessceConfig,\n",
    "    Component as cm,\n",
    "    CoordinationType as ct,\n",
    "    #AnnDataWrapper\n",
    ")\n",
    "\n",
    "from vitessce.wrappers import AnnDataWrapper\n",
    "\n",
    "from vitessce.data_utils import (\n",
    "    optimize_adata,\n",
    "    VAR_CHUNK_SIZE,\n",
    ")"
   ]
  },
  {
   "cell_type": "markdown",
   "metadata": {},
   "source": [
    "### some dataset preparation"
   ]
  },
  {
   "cell_type": "code",
   "execution_count": 2,
   "metadata": {},
   "outputs": [
    {
     "name": "stderr",
     "output_type": "stream",
     "text": [
      "/Users/yufanxia/anaconda3/envs/vitessce-python-dev/lib/python3.9/site-packages/anndata/compat/__init__.py:311: FutureWarning: Moving element from .uns['neighbors']['distances'] to .obsp['distances'].\n",
      "\n",
      "This is where adjacency matrices should go now.\n",
      "  warn(\n",
      "/Users/yufanxia/anaconda3/envs/vitessce-python-dev/lib/python3.9/site-packages/anndata/compat/__init__.py:311: FutureWarning: Moving element from .uns['neighbors']['connectivities'] to .obsp['connectivities'].\n",
      "\n",
      "This is where adjacency matrices should go now.\n",
      "  warn(\n",
      "/var/folders/pz/x2v3y0f93k9d3nfx01z18ctr0000gn/T/ipykernel_4476/960494707.py:9: FutureWarning: Series.__getitem__ treating keys as positions is deprecated. In a future version, integer keys will always be treated as labels (consistent with DataFrame behavior). To access a value by position, use `ser.iloc[pos]`\n",
      "  key=lambda k: adata.var[\"dispersions_norm\"][k],\n",
      "/var/folders/pz/x2v3y0f93k9d3nfx01z18ctr0000gn/T/ipykernel_4476/960494707.py:6: FutureWarning: Series.__getitem__ treating keys as positions is deprecated. In a future version, integer keys will always be treated as labels (consistent with DataFrame behavior). To access a value by position, use `ser.iloc[pos]`\n",
      "  top_dispersion = adata.var[\"dispersions_norm\"][\n"
     ]
    }
   ],
   "source": [
    "adata_filepath = join(\"data\", \"habib17.processed.h5ad\")\n",
    "if not isfile(adata_filepath):\n",
    "    os.makedirs(\"data\", exist_ok=True)\n",
    "    urlretrieve('https://covid19.cog.sanger.ac.uk/habib17.processed.h5ad', adata_filepath)\n",
    "adata = read_h5ad(adata_filepath)\n",
    "top_dispersion = adata.var[\"dispersions_norm\"][\n",
    "    sorted(\n",
    "        range(len(adata.var[\"dispersions_norm\"])),\n",
    "        key=lambda k: adata.var[\"dispersions_norm\"][k],\n",
    "    )[-51:][0]\n",
    "]\n",
    "adata.var[\"top_highly_variable\"] = (\n",
    "    adata.var[\"dispersions_norm\"] > top_dispersion\n",
    ")"
   ]
  },
  {
   "cell_type": "code",
   "execution_count": 3,
   "metadata": {},
   "outputs": [],
   "source": [
    "zarr_filepath = join(\"data\", \"habib17.processed.zarr\")\n",
    "if not isdir(zarr_filepath):\n",
    "    adata = optimize_adata(\n",
    "        adata,\n",
    "        obs_cols=[\"CellType\"],\n",
    "        obsm_keys=[\"X_umap\"],\n",
    "        optimize_X=True,\n",
    "        var_cols=[\"top_highly_variable\"],\n",
    "    )\n",
    "adata.write_zarr(zarr_filepath, chunks=[adata.shape[0], VAR_CHUNK_SIZE])"
   ]
  },
  {
   "cell_type": "markdown",
   "metadata": {},
   "source": [
    "### setup Anndatawrapper automatically and visualize"
   ]
  },
  {
   "cell_type": "code",
   "execution_count": 4,
   "metadata": {},
   "outputs": [
    {
     "name": "stdout",
     "output_type": "stream",
     "text": [
      "For mapping you can choose from:  ['X_umap']\n",
      "For gene filtering the chosen filter is: var/top_highly_variable, specify yourself if this is not wanted\n"
     ]
    }
   ],
   "source": [
    "vc = VitessceConfig(schema_version=\"1.0.15\", name='Habib et al', description='COVID-19 Healthy Donor Brain')\n",
    "dataset = vc.add_dataset(name='Brain').add_object(AnnDataWrapper(\n",
    "        adata_path=zarr_filepath,\n",
    "        adata=adata,\n",
    "    )\n",
    ")"
   ]
  },
  {
   "cell_type": "code",
   "execution_count": 5,
   "metadata": {},
   "outputs": [
    {
     "data": {
      "application/vnd.jupyter.widget-view+json": {
       "model_id": "01cad4e7dfc340efbc5b1872359fc793",
       "version_major": 2,
       "version_minor": 0
      },
      "text/plain": [
       "VitessceWidget(config={'version': '1.0.15', 'name': 'Habib et al', 'description': 'COVID-19 Healthy Donor Brai…"
      ]
     },
     "execution_count": 5,
     "metadata": {},
     "output_type": "execute_result"
    }
   ],
   "source": [
    "scatterplot = vc.add_view(cm.SCATTERPLOT, dataset=dataset, mapping=\"X_umap\")\n",
    "cell_sets = vc.add_view(cm.OBS_SETS, dataset=dataset)\n",
    "genes = vc.add_view(cm.FEATURE_LIST, dataset=dataset)\n",
    "heatmap = vc.add_view(cm.HEATMAP, dataset=dataset)\n",
    "vc.layout((scatterplot | cell_sets) / (heatmap | genes));\n",
    "vw = vc.widget()\n",
    "vw"
   ]
  }
 ],
 "metadata": {
  "kernelspec": {
   "display_name": "vitessce-python-dev",
   "language": "python",
   "name": "python3"
  },
  "language_info": {
   "codemirror_mode": {
    "name": "ipython",
    "version": 3
   },
   "file_extension": ".py",
   "mimetype": "text/x-python",
   "name": "python",
   "nbconvert_exporter": "python",
   "pygments_lexer": "ipython3",
   "version": "3.9.0"
  }
 },
 "nbformat": 4,
 "nbformat_minor": 2
}

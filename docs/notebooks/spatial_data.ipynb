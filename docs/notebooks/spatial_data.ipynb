{
 "cells": [
  {
   "cell_type": "markdown",
   "metadata": {
    "nbsphinx": "hidden"
   },
   "source": [
    "# Vitessce Widget Tutorial"
   ]
  },
  {
   "cell_type": "markdown",
   "metadata": {},
   "source": [
    "# Visualization of SpatialData Object"
   ]
  },
  {
   "cell_type": "markdown",
   "metadata": {},
   "source": [
    "## 1. Import dependencies\n",
    "\n",
    "We need to import the classes and functions that we will be using from the corresponding packages."
   ]
  },
  {
   "cell_type": "code",
   "execution_count": 1,
   "metadata": {},
   "outputs": [],
   "source": [
    "%load_ext autoreload\n",
    "%autoreload 2\n",
    "\n",
    "from pathlib import Path\n",
    "from urllib.request import urlretrieve\n",
    "import dask\n",
    "\n",
    "dask.config.set({'dataframe.query-planning-warning': False})\n",
    "\n",
    "from spatialdata import read_zarr\n",
    "import scanpy as sc\n",
    "\n",
    "from vitessce import (\n",
    "    VitessceConfig,\n",
    "    Component as cm,\n",
    "    CoordinationType as ct,\n",
    "    AbstractWrapper,\n",
    "    SpatialDataWrapper\n",
    ")\n",
    "from vitessce.data_utils import (\n",
    "    optimize_adata,\n",
    "    VAR_CHUNK_SIZE,\n",
    ")\n",
    "import zipfile\n"
   ]
  },
  {
   "cell_type": "code",
   "execution_count": 2,
   "metadata": {},
   "outputs": [],
   "source": [
    "zip_filepath = Path(\"data/visium.spatialdata.zarr.zip\")\n",
    "spatialdata_filepath = zip_filepath.with_suffix('')\n",
    "if not zip_filepath.exists():\n",
    "    spatialdata_filepath.parent.mkdir(exist_ok=True)\n",
    "    urlretrieve('https://s3.embl.de/spatialdata/spatialdata-sandbox/visium_associated_xenium_io.zip', zip_filepath)\n",
    "    with zipfile.ZipFile(zip_filepath,\"r\") as zip_ref:\n",
    "        zip_ref.extractall(spatialdata_filepath.parent)\n",
    "        (spatialdata_filepath.parent / \"data.zarr\").rename(spatialdata_filepath)\n",
    "        (spatialdata_filepath / \"tables\").rename(spatialdata_filepath / \"table\") # TODO: remove once fixed in Vitessce"
   ]
  },
  {
   "cell_type": "markdown",
   "metadata": {},
   "source": [
    "## 3. Load the data\n",
    "\n",
    "Note: this function may print a `FutureWarning`"
   ]
  },
  {
   "cell_type": "code",
   "execution_count": 3,
   "metadata": {},
   "outputs": [
    {
     "name": "stderr",
     "output_type": "stream",
     "text": [
      "/var/folders/k9/9wc7lvwj2g34_r74kn6cr0nr0000gn/T/ipykernel_21578/1452425863.py:1: DeprecationWarning: Table group found in zarr store at location /Users/ilangold/Projects/Gehlenborg/vitessce-python/docs/notebooks/data/visium.spatialdata.zarr. Please update the zarr storeto use tables instead.\n",
      "  spatialdata = read_zarr(spatialdata_filepath)\n"
     ]
    }
   ],
   "source": [
    "spatialdata = read_zarr(spatialdata_filepath)"
   ]
  },
  {
   "cell_type": "code",
   "execution_count": 4,
   "metadata": {},
   "outputs": [
    {
     "data": {
      "text/plain": [
       "SpatialData object with:\n",
       "├── Images\n",
       "│     ├── 'CytAssist_FFPE_Human_Breast_Cancer_full_image': MultiscaleSpatialImage[cyx] (3, 21571, 19505), (3, 10785, 9752), (3, 5392, 4876), (3, 2696, 2438), (3, 1348, 1219)\n",
       "│     ├── 'CytAssist_FFPE_Human_Breast_Cancer_hires_image': SpatialImage[cyx] (3, 2000, 1809)\n",
       "│     └── 'CytAssist_FFPE_Human_Breast_Cancer_lowres_image': SpatialImage[cyx] (3, 600, 543)\n",
       "├── Shapes\n",
       "│     └── 'CytAssist_FFPE_Human_Breast_Cancer': GeoDataFrame shape: (4992, 2) (2D shapes)\n",
       "└── Tables\n",
       "      └── 'table': AnnData (4992, 18085)\n",
       "with coordinate systems:\n",
       "▸ 'downscaled_hires', with elements:\n",
       "        CytAssist_FFPE_Human_Breast_Cancer_hires_image (Images), CytAssist_FFPE_Human_Breast_Cancer (Shapes)\n",
       "▸ 'downscaled_lowres', with elements:\n",
       "        CytAssist_FFPE_Human_Breast_Cancer_lowres_image (Images), CytAssist_FFPE_Human_Breast_Cancer (Shapes)\n",
       "▸ 'global', with elements:\n",
       "        CytAssist_FFPE_Human_Breast_Cancer_full_image (Images), CytAssist_FFPE_Human_Breast_Cancer (Shapes)"
      ]
     },
     "execution_count": 4,
     "metadata": {},
     "output_type": "execute_result"
    }
   ],
   "source": [
    "spatialdata"
   ]
  },
  {
   "cell_type": "code",
   "execution_count": 5,
   "metadata": {},
   "outputs": [
    {
     "data": {
      "text/plain": [
       "{'CytAssist_FFPE_Human_Breast_Cancer':                          geometry     radius\n",
       "0       POINT (4131.000 4636.000)  63.917904\n",
       "1     POINT (13355.000 16640.000)  63.917904\n",
       "2      POINT (8845.000 12067.000)  63.917904\n",
       "3     POINT (14716.000 15518.000)  63.917904\n",
       "4     POINT (11404.000 12365.000)  63.917904\n",
       "...                           ...        ...\n",
       "4987    POINT (8731.000 9049.000)  63.917904\n",
       "4988    POINT (6598.000 4776.000)  63.917904\n",
       "4989   POINT (10447.000 6653.000)  63.917904\n",
       "4990  POINT (11039.000 12368.000)  63.917904\n",
       "4991   POINT (3720.000 10518.000)  63.917904\n",
       "\n",
       "[4992 rows x 2 columns]}"
      ]
     },
     "execution_count": 5,
     "metadata": {},
     "output_type": "execute_result"
    }
   ],
   "source": [
    "spatialdata.shapes"
   ]
  },
  {
   "cell_type": "markdown",
   "metadata": {},
   "source": [
    "## 4. Create the Vitessce widget configuration\n",
    "\n",
    "Vitessce needs to know which pieces of data we are interested in visualizing, the visualization types we would like to use, and how we want to coordinate (or link) the views."
   ]
  },
  {
   "cell_type": "markdown",
   "metadata": {},
   "source": [
    "### 4.1. Instantiate a `VitessceConfig` object\n",
    "\n",
    "Use the `VitessceConfig` constructor to create an instance."
   ]
  },
  {
   "cell_type": "code",
   "execution_count": 13,
   "metadata": {},
   "outputs": [],
   "source": [
    "vc = VitessceConfig(schema_version=\"1.0.16\", name='Visium SpatialData Demo (visium_associated_xenium_io)', description='From https://spatialdata.scverse.org/en/latest/tutorials/notebooks/datasets/README.html')"
   ]
  },
  {
   "cell_type": "markdown",
   "metadata": {},
   "source": [
    "### 4.2. Add a dataset to the `VitessceConfig` instance\n",
    "\n",
    "In Vitessce, a dataset is a container for one file per data type. The `.add_dataset(name)` method on the `vc` instance sets up and returns a new dataset instance.\n",
    "\n",
    "Then, we can call the dataset's `.add_object(wrapper_object)` method to attach a \"data wrapper\" instance to our new dataset. For example, the `AnnDataWrapper` helps to configure AnnData Zarr stores for use in the Vitessce configuration.\n",
    "\n",
    "Dataset wrapper classes may require additional parameters to resolve ambiguities. For instance, `AnnData` objects may store multiple clusterings or cell type annotation columns in the `adata.obs` dataframe. We can use the parameter `obs_set_paths` to tell Vitessce that certain columns of the `obs` dataframe correspond to cell type annotations or cell clusterings."
   ]
  },
  {
   "cell_type": "code",
   "execution_count": 14,
   "metadata": {},
   "outputs": [],
   "source": [
    "wrapper = SpatialDataWrapper(\n",
    "    spatialdata_path=spatialdata_filepath.absolute(),\n",
    "    image_path=\"images/CytAssist_FFPE_Human_Breast_Cancer_full_image\",\n",
    "    obs_feature_matrix_path = \"table/table/X\",\n",
    "    feature_labels_path = \"table/table/var/gene_ids\",\n",
    "    shapes_path = \"shapes/CytAssist_FFPE_Human_Breast_Cancer\",\n",
    "    # obs_set_paths = [\"table/table/obs/region\"]\n",
    ")"
   ]
  },
  {
   "cell_type": "code",
   "execution_count": 15,
   "metadata": {},
   "outputs": [],
   "source": [
    "dataset = vc.add_dataset(name='Breast Cancer Visium').add_object(wrapper)"
   ]
  },
  {
   "cell_type": "code",
   "execution_count": 16,
   "metadata": {},
   "outputs": [],
   "source": [
    "spatial = vc.add_view(\"spatialBeta\", dataset=dataset)\n",
    "feature_list = vc.add_view(cm.FEATURE_LIST, dataset=dataset)\n",
    "layer_controller = vc.add_view(\"layerControllerBeta\", dataset=dataset)\n",
    "# The below is trying to get the spots to appear.....delete maybe?\n",
    "# [feature_selection, obs_color_encoding] = vc.add_coordination(ct.FEATURE_SELECTION, ct.OBS_COLOR_ENCODING);\n",
    "# obs_color_encoding.set_value('geneSelection')\n",
    "# vc.link_views_by_dict(\n",
    "#     [spatial, layer_controller],\n",
    "#     {\n",
    "#         ct.FEATURE_SELECTION: feature_selection, ct.OBS_COLOR_ENCODING: obs_color_encoding\n",
    "#     },\n",
    "#     scope_prefix=\"init_A_obsSpots\"\n",
    "# )\n",
    "# vc.link_views_by_dict(\n",
    "#     [spatial, layer_controller],\n",
    "#     {\n",
    "#       'photometricInterpretation': 'RGB',\n",
    "#     },\n",
    "#     scope_prefix=\"init_A_image\"\n",
    "# )\n",
    "# vc.link_views([spatial, layer_controller, feature_list], ['obsType'], ['spot'])\n",
    "# feature_list.use_coordination(feature_selection)\n",
    "# feature_list.use_coordination(obs_color_encoding)"
   ]
  },
  {
   "cell_type": "markdown",
   "metadata": {},
   "source": [
    "### 4.4. Define the visualization layout\n",
    "\n",
    "The `vc.layout(view_concat)` method allows us to specify how our views will be arranged in the layout grid in the widget. The `|` and `/` characters are magic syntax for `hconcat(v1, v2)` and `vconcat(v1, v2)`, respectively."
   ]
  },
  {
   "cell_type": "code",
   "execution_count": 17,
   "metadata": {},
   "outputs": [],
   "source": [
    "vc.layout(spatial | (feature_list / layer_controller));"
   ]
  },
  {
   "cell_type": "code",
   "execution_count": 18,
   "metadata": {},
   "outputs": [
    {
     "data": {
      "text/plain": [
       "{'version': '1.0.16',\n",
       " 'name': 'Visium SpatialData Demo (visium_associated_xenium_io)',\n",
       " 'description': 'From https://spatialdata.scverse.org/en/latest/tutorials/notebooks/datasets/README.html',\n",
       " 'datasets': [{'uid': 'A',\n",
       "   'name': 'Breast Cancer Visium',\n",
       "   'files': [{'fileType': 'spatialdata.zarr',\n",
       "     'url': 'localhost:8080/A/0/ed5b4b78-cdd7-41ba-b348-70392f545dd9.spatialdata.zarr',\n",
       "     'options': {'obsFeatureMatrix': {'path': 'table/table/X'},\n",
       "      'obsSpots': {'path': 'shapes/CytAssist_FFPE_Human_Breast_Cancer',\n",
       "       'tablePath': 'table/table',\n",
       "       'region': 'region'},\n",
       "      'image': {'path': 'images/CytAssist_FFPE_Human_Breast_Cancer_full_image'},\n",
       "      'featureLabels': {'path': 'table/table/var/gene_ids'}}}]}],\n",
       " 'coordinationSpace': {'dataset': {'A': 'A'}},\n",
       " 'layout': [{'component': 'spatialBeta',\n",
       "   'coordinationScopes': {'dataset': 'A'},\n",
       "   'x': 0.0,\n",
       "   'y': 0,\n",
       "   'w': 6.0,\n",
       "   'h': 12},\n",
       "  {'component': 'featureList',\n",
       "   'coordinationScopes': {'dataset': 'A'},\n",
       "   'x': 6.0,\n",
       "   'y': 0.0,\n",
       "   'w': 6.0,\n",
       "   'h': 6.0},\n",
       "  {'component': 'layerControllerBeta',\n",
       "   'coordinationScopes': {'dataset': 'A'},\n",
       "   'x': 6.0,\n",
       "   'y': 6.0,\n",
       "   'w': 6.0,\n",
       "   'h': 6.0}],\n",
       " 'initStrategy': 'auto'}"
      ]
     },
     "execution_count": 18,
     "metadata": {},
     "output_type": "execute_result"
    }
   ],
   "source": [
    "vc.to_dict('localhost:8080')"
   ]
  },
  {
   "cell_type": "code",
   "execution_count": 19,
   "metadata": {},
   "outputs": [
    {
     "data": {
      "application/vnd.jupyter.widget-view+json": {
       "model_id": "",
       "version_major": 2,
       "version_minor": 0
      },
      "text/plain": [
       "VitessceWidget(config={'version': '1.0.16', 'name': 'Visium SpatialData Demo (visium_associated_xenium_io)', '…"
      ]
     },
     "execution_count": 19,
     "metadata": {},
     "output_type": "execute_result"
    }
   ],
   "source": [
    "vw = vc.widget()\n",
    "vw"
   ]
  },
  {
   "cell_type": "code",
   "execution_count": 20,
   "metadata": {},
   "outputs": [],
   "source": [
    "vw.close()\n"
   ]
  },
  {
   "cell_type": "code",
   "execution_count": null,
   "metadata": {},
   "outputs": [],
   "source": []
  }
 ],
 "metadata": {
  "kernelspec": {
   "display_name": "Python 3 (ipykernel)",
   "language": "python",
   "name": "python3"
  },
  "language_info": {
   "codemirror_mode": {
    "name": "ipython",
    "version": 3
   },
   "file_extension": ".py",
   "mimetype": "text/x-python",
   "name": "python",
   "nbconvert_exporter": "python",
   "pygments_lexer": "ipython3",
   "version": "3.9.0"
  }
 },
 "nbformat": 4,
 "nbformat_minor": 4
}

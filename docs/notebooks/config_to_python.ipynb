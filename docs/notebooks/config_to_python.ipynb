{
 "cells": [
  {
   "cell_type": "markdown",
   "id": "10f1c457-d0c8-4630-8e49-45df13b9c6d0",
   "metadata": {},
   "source": [
    "# Generate Python code to reconstruct a VitessceConfig instance"
   ]
  },
  {
   "cell_type": "code",
   "execution_count": 1,
   "id": "67d5193a",
   "metadata": {},
   "outputs": [],
   "source": [
    "from vitessce import VitessceConfig, VitessceChainableConfig, VitessceConfigDatasetFile"
   ]
  },
  {
   "cell_type": "code",
   "execution_count": 2,
   "id": "721dacde",
   "metadata": {},
   "outputs": [],
   "source": [
    "from example_configs import dries as dries_config"
   ]
  },
  {
   "cell_type": "markdown",
   "id": "0954be13-6157-4e72-871d-4b1cd6b36ff0",
   "metadata": {},
   "source": [
    "## Load a view config from a dict representation"
   ]
  },
  {
   "cell_type": "code",
   "execution_count": 3,
   "id": "61000b61",
   "metadata": {
    "scrolled": true
   },
   "outputs": [],
   "source": [
    "vc = VitessceConfig.from_dict(dries_config)"
   ]
  },
  {
   "cell_type": "markdown",
   "id": "0999e895-194e-4890-9cf7-b7c7cc60c9ee",
   "metadata": {},
   "source": [
    "## Print to JSON"
   ]
  },
  {
   "cell_type": "code",
   "execution_count": 4,
   "id": "f777b428-4d75-487e-b08d-9d66f30fbe9a",
   "metadata": {},
   "outputs": [
    {
     "name": "stdout",
     "output_type": "stream",
     "text": [
      "{\n",
      "  \"version\": \"1.0.0\",\n",
      "  \"name\": \"Dries\",\n",
      "  \"description\": \"Giotto, a pipeline for integrative analysis and visualization of single-cell spatial transcriptomic data\",\n",
      "  \"datasets\": [\n",
      "    {\n",
      "      \"uid\": \"dries-2019\",\n",
      "      \"name\": \"Dries 2019\",\n",
      "      \"files\": [\n",
      "        {\n",
      "          \"type\": \"cells\",\n",
      "          \"fileType\": \"cells.json\",\n",
      "          \"url\": \"https://s3.amazonaws.com/vitessce-data/0.0.31/master_release/dries/dries.cells.json\"\n",
      "        },\n",
      "        {\n",
      "          \"type\": \"cell-sets\",\n",
      "          \"fileType\": \"cell-sets.json\",\n",
      "          \"url\": \"https://s3.amazonaws.com/vitessce-data/0.0.31/master_release/dries/dries.cell-sets.json\"\n",
      "        }\n",
      "      ]\n",
      "    }\n",
      "  ],\n",
      "  \"coordinationSpace\": {\n",
      "    \"dataset\": {\n",
      "      \"A\": \"dries-2019\"\n",
      "    },\n",
      "    \"embeddingType\": {\n",
      "      \"TSNE\": \"t-SNE\",\n",
      "      \"UMAP\": \"UMAP\"\n",
      "    },\n",
      "    \"embeddingZoom\": {\n",
      "      \"TSNE\": 3,\n",
      "      \"UMAP\": 3\n",
      "    },\n",
      "    \"spatialZoom\": {\n",
      "      \"A\": -4.4\n",
      "    },\n",
      "    \"spatialTargetX\": {\n",
      "      \"A\": 3800\n",
      "    },\n",
      "    \"spatialTargetY\": {\n",
      "      \"A\": -900\n",
      "    }\n",
      "  },\n",
      "  \"layout\": [\n",
      "    {\n",
      "      \"component\": \"description\",\n",
      "      \"coordinationScopes\": {},\n",
      "      \"x\": 9,\n",
      "      \"y\": 0,\n",
      "      \"w\": 3,\n",
      "      \"h\": 4,\n",
      "      \"props\": {\n",
      "        \"description\": \"Giotto, a pipeline for integrative analysis and visualization of single-cell spatial transcriptomic data\"\n",
      "      }\n",
      "    },\n",
      "    {\n",
      "      \"component\": \"cellSets\",\n",
      "      \"coordinationScopes\": {},\n",
      "      \"x\": 9,\n",
      "      \"y\": 4,\n",
      "      \"w\": 3,\n",
      "      \"h\": 4\n",
      "    },\n",
      "    {\n",
      "      \"component\": \"cellSetSizes\",\n",
      "      \"coordinationScopes\": {},\n",
      "      \"x\": 5,\n",
      "      \"y\": 4,\n",
      "      \"w\": 4,\n",
      "      \"h\": 4\n",
      "    },\n",
      "    {\n",
      "      \"component\": \"scatterplot\",\n",
      "      \"coordinationScopes\": {\n",
      "        \"embeddingType\": \"TSNE\",\n",
      "        \"embeddingZoom\": \"TSNE\"\n",
      "      },\n",
      "      \"x\": 0,\n",
      "      \"y\": 2,\n",
      "      \"w\": 5,\n",
      "      \"h\": 4\n",
      "    },\n",
      "    {\n",
      "      \"component\": \"spatial\",\n",
      "      \"coordinationScopes\": {\n",
      "        \"spatialZoom\": \"A\",\n",
      "        \"spatialTargetX\": \"A\",\n",
      "        \"spatialTargetY\": \"A\"\n",
      "      },\n",
      "      \"x\": 5,\n",
      "      \"y\": 0,\n",
      "      \"w\": 4,\n",
      "      \"h\": 4,\n",
      "      \"props\": {\n",
      "        \"cellRadius\": 50\n",
      "      }\n",
      "    },\n",
      "    {\n",
      "      \"component\": \"scatterplot\",\n",
      "      \"coordinationScopes\": {\n",
      "        \"embeddingType\": \"UMAP\",\n",
      "        \"embeddingZoom\": \"UMAP\"\n",
      "      },\n",
      "      \"x\": 0,\n",
      "      \"y\": 0,\n",
      "      \"w\": 5,\n",
      "      \"h\": 4\n",
      "    }\n",
      "  ],\n",
      "  \"initStrategy\": \"auto\"\n",
      "}\n"
     ]
    }
   ],
   "source": [
    "import json\n",
    "print(json.dumps(vc.to_dict(), indent=2))"
   ]
  },
  {
   "cell_type": "markdown",
   "id": "6b51dc66-096c-4c69-a041-62c5bdd523e7",
   "metadata": {},
   "source": [
    "## Print to Python\n",
    "\n",
    "The `vc.to_python` function generates formatted Python code which can be used to re-generate the `vc` instance."
   ]
  },
  {
   "cell_type": "code",
   "execution_count": 5,
   "id": "15ae4ca3-490e-4b99-ae4d-8fafedf60885",
   "metadata": {},
   "outputs": [],
   "source": [
    "imports, code = vc.to_python()"
   ]
  },
  {
   "cell_type": "markdown",
   "id": "619a87f0-9eff-49c0-a092-7859c2a54d16",
   "metadata": {},
   "source": [
    "The first value returned is a list of classes used by the code snippet."
   ]
  },
  {
   "cell_type": "code",
   "execution_count": 6,
   "id": "6ec458e3-1970-42ab-876c-cc7407d9cc19",
   "metadata": {},
   "outputs": [
    {
     "data": {
      "text/plain": [
       "['VitessceChainableConfig', 'VitessceConfigDatasetFile']"
      ]
     },
     "execution_count": 6,
     "metadata": {},
     "output_type": "execute_result"
    }
   ],
   "source": [
    "imports"
   ]
  },
  {
   "cell_type": "code",
   "execution_count": 7,
   "id": "0a458da5-9fe1-45fa-b6d5-a09acb3493d3",
   "metadata": {},
   "outputs": [
    {
     "name": "stdout",
     "output_type": "stream",
     "text": [
      "VitessceChainableConfig(\n",
      "    name=\"Dries\",\n",
      "    description=\"Giotto, a pipeline for integrative analysis and visualization of single-cell spatial transcriptomic data\",\n",
      "    schema_version=\"1.0.0\",\n",
      ").add_dataset(\n",
      "    uid=\"dries-2019\",\n",
      "    name=\"Dries 2019\",\n",
      "    files=[\n",
      "        VitessceConfigDatasetFile(\n",
      "            data_type=\"cells\",\n",
      "            file_type=\"cells.json\",\n",
      "            url=\"https://s3.amazonaws.com/vitessce-data/0.0.31/master_release/dries/dries.cells.json\",\n",
      "        ),\n",
      "        VitessceConfigDatasetFile(\n",
      "            data_type=\"cell-sets\",\n",
      "            file_type=\"cell-sets.json\",\n",
      "            url=\"https://s3.amazonaws.com/vitessce-data/0.0.31/master_release/dries/dries.cell-sets.json\",\n",
      "        ),\n",
      "    ],\n",
      ").set_coordination_value(\n",
      "    c_type=\"embeddingType\", c_scope=\"TSNE\", c_value=\"t-SNE\"\n",
      ").set_coordination_value(\n",
      "    c_type=\"embeddingType\", c_scope=\"UMAP\", c_value=\"UMAP\"\n",
      ").set_coordination_value(\n",
      "    c_type=\"embeddingZoom\", c_scope=\"TSNE\", c_value=3\n",
      ").set_coordination_value(\n",
      "    c_type=\"embeddingZoom\", c_scope=\"UMAP\", c_value=3\n",
      ").set_coordination_value(\n",
      "    c_type=\"spatialZoom\", c_scope=\"A\", c_value=-4.4\n",
      ").set_coordination_value(\n",
      "    c_type=\"spatialTargetX\", c_scope=\"A\", c_value=3800\n",
      ").set_coordination_value(\n",
      "    c_type=\"spatialTargetY\", c_scope=\"A\", c_value=-900\n",
      ").add_view(\n",
      "    dataset_uid=\"dries-2019\",\n",
      "    component=\"description\",\n",
      "    x=9,\n",
      "    y=0,\n",
      "    w=3,\n",
      "    h=4,\n",
      "    props={\n",
      "        \"description\": \"Giotto, a pipeline for integrative analysis and visualization of single-cell spatial transcriptomic data\"\n",
      "    },\n",
      ").add_view(\n",
      "    dataset_uid=\"dries-2019\", component=\"cellSets\", x=9, y=4, w=3, h=4\n",
      ").add_view(\n",
      "    dataset_uid=\"dries-2019\", component=\"cellSetSizes\", x=5, y=4, w=4, h=4\n",
      ").add_view(\n",
      "    dataset_uid=\"dries-2019\",\n",
      "    component=\"scatterplot\",\n",
      "    x=0,\n",
      "    y=2,\n",
      "    w=5,\n",
      "    h=4,\n",
      "    coordination_scopes={\"embeddingType\": \"TSNE\", \"embeddingZoom\": \"TSNE\"},\n",
      ").add_view(\n",
      "    dataset_uid=\"dries-2019\",\n",
      "    component=\"spatial\",\n",
      "    x=5,\n",
      "    y=0,\n",
      "    w=4,\n",
      "    h=4,\n",
      "    coordination_scopes={\n",
      "        \"spatialZoom\": \"A\",\n",
      "        \"spatialTargetX\": \"A\",\n",
      "        \"spatialTargetY\": \"A\",\n",
      "    },\n",
      "    props={\"cellRadius\": 50},\n",
      ").add_view(\n",
      "    dataset_uid=\"dries-2019\",\n",
      "    component=\"scatterplot\",\n",
      "    x=0,\n",
      "    y=0,\n",
      "    w=5,\n",
      "    h=4,\n",
      "    coordination_scopes={\"embeddingType\": \"UMAP\", \"embeddingZoom\": \"UMAP\"},\n",
      ")\n",
      "\n"
     ]
    }
   ],
   "source": [
    "print(code)"
   ]
  },
  {
   "cell_type": "markdown",
   "id": "e47433f0-0b65-4204-becb-ec9b0c59b731",
   "metadata": {},
   "source": [
    "The second value is the code snippet. When evaluated, the result will be a new `VitessceConfig` instance."
   ]
  },
  {
   "cell_type": "markdown",
   "id": "a82a7938-923c-4947-bdf9-49d1f30134f6",
   "metadata": {},
   "source": [
    "## Evaluate the code and render a Vitessce widget"
   ]
  },
  {
   "cell_type": "code",
   "execution_count": 8,
   "id": "94434a43",
   "metadata": {},
   "outputs": [],
   "source": [
    "reconstructed_vc = eval(code)"
   ]
  },
  {
   "cell_type": "code",
   "execution_count": 10,
   "id": "bf0110ff",
   "metadata": {},
   "outputs": [],
   "source": [
    "#reconstructed_vc.widget()"
   ]
  },
  {
   "cell_type": "code",
   "execution_count": null,
   "id": "ce75dcdd-4f26-4009-b46b-090c4404f29f",
   "metadata": {},
   "outputs": [],
   "source": []
  }
 ],
 "metadata": {
  "kernelspec": {
   "display_name": "Python 3",
   "language": "python",
   "name": "python3"
  },
  "language_info": {
   "codemirror_mode": {
    "name": "ipython",
    "version": 3
   },
   "file_extension": ".py",
   "mimetype": "text/x-python",
   "name": "python",
   "nbconvert_exporter": "python",
   "pygments_lexer": "ipython3",
   "version": "3.9.4"
  }
 },
 "nbformat": 4,
 "nbformat_minor": 5
}

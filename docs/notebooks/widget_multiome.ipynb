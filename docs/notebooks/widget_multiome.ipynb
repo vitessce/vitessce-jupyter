{
 "cells": [
  {
   "cell_type": "markdown",
   "metadata": {
    "nbsphinx": "hidden"
   },
   "source": [
    "# Vitessce Widget Tutorial"
   ]
  },
  {
   "cell_type": "markdown",
   "metadata": {},
   "source": [
    "# Visualization of 10x multiome data"
   ]
  },
  {
   "cell_type": "markdown",
   "metadata": {},
   "source": [
    "## 1. Import dependencies\n",
    "\n",
    "We need to import the classes and functions that we will be using from the corresponding packages."
   ]
  },
  {
   "cell_type": "code",
   "execution_count": 1,
   "metadata": {},
   "outputs": [
    {
     "name": "stdout",
     "output_type": "stream",
     "text": [
      "Collecting git+https://github.com/keller-mark/mudata.git@keller-mark/write_zarr\n",
      "  Cloning https://github.com/keller-mark/mudata.git (to revision keller-mark/write_zarr) to /private/var/folders/j7/z73pwc713473sxx39wdbgb5h0000gn/T/pip-req-build-85b92x3t\n",
      "  Running command git clone -q https://github.com/keller-mark/mudata.git /private/var/folders/j7/z73pwc713473sxx39wdbgb5h0000gn/T/pip-req-build-85b92x3t\n",
      "  Running command git checkout -b keller-mark/write_zarr --track origin/keller-mark/write_zarr\n",
      "  Switched to a new branch 'keller-mark/write_zarr'\n",
      "  Branch 'keller-mark/write_zarr' set up to track remote branch 'keller-mark/write_zarr' from 'origin'.\n",
      "  Installing build dependencies ... \u001b[?25ldone\n",
      "\u001b[?25h  Getting requirements to build wheel ... \u001b[?25ldone\n",
      "\u001b[?25h    Preparing wheel metadata ... \u001b[?25ldone\n",
      "\u001b[?25hRequirement already satisfied: h5py in /Users/mkeller/anaconda3/envs/vitessce-jupyter-examples/lib/python3.9/site-packages (from mudata==0.1.1) (3.2.1)\n",
      "Requirement already satisfied: numpy in /Users/mkeller/anaconda3/envs/vitessce-jupyter-examples/lib/python3.9/site-packages (from mudata==0.1.1) (1.20.3)\n",
      "Requirement already satisfied: anndata<0.8 in /Users/mkeller/anaconda3/envs/vitessce-jupyter-examples/lib/python3.9/site-packages (from mudata==0.1.1) (0.7.6)\n",
      "Requirement already satisfied: pandas in /Users/mkeller/anaconda3/envs/vitessce-jupyter-examples/lib/python3.9/site-packages (from mudata==0.1.1) (1.2.4)\n",
      "Requirement already satisfied: scipy>1.4 in /Users/mkeller/anaconda3/envs/vitessce-jupyter-examples/lib/python3.9/site-packages (from anndata<0.8->mudata==0.1.1) (1.6.3)\n",
      "Requirement already satisfied: natsort in /Users/mkeller/anaconda3/envs/vitessce-jupyter-examples/lib/python3.9/site-packages (from anndata<0.8->mudata==0.1.1) (7.1.1)\n",
      "Requirement already satisfied: packaging>=20 in /Users/mkeller/anaconda3/envs/vitessce-jupyter-examples/lib/python3.9/site-packages (from anndata<0.8->mudata==0.1.1) (20.9)\n",
      "Requirement already satisfied: xlrd<2.0 in /Users/mkeller/anaconda3/envs/vitessce-jupyter-examples/lib/python3.9/site-packages (from anndata<0.8->mudata==0.1.1) (1.2.0)\n",
      "Requirement already satisfied: pyparsing>=2.0.2 in /Users/mkeller/anaconda3/envs/vitessce-jupyter-examples/lib/python3.9/site-packages (from packaging>=20->anndata<0.8->mudata==0.1.1) (2.4.7)\n",
      "Requirement already satisfied: python-dateutil>=2.7.3 in /Users/mkeller/anaconda3/envs/vitessce-jupyter-examples/lib/python3.9/site-packages (from pandas->mudata==0.1.1) (2.8.1)\n",
      "Requirement already satisfied: pytz>=2017.3 in /Users/mkeller/anaconda3/envs/vitessce-jupyter-examples/lib/python3.9/site-packages (from pandas->mudata==0.1.1) (2021.1)\n",
      "Requirement already satisfied: six>=1.5 in /Users/mkeller/anaconda3/envs/vitessce-jupyter-examples/lib/python3.9/site-packages (from python-dateutil>=2.7.3->pandas->mudata==0.1.1) (1.16.0)\n",
      "Building wheels for collected packages: mudata\n",
      "  Building wheel for mudata (PEP 517) ... \u001b[?25ldone\n",
      "\u001b[?25h  Created wheel for mudata: filename=mudata-0.1.1-py3-none-any.whl size=21857 sha256=7c347849b3eecb5f8365f94244db468aeb8b174b95e249ee57bbb03c0a7719c7\n",
      "  Stored in directory: /private/var/folders/j7/z73pwc713473sxx39wdbgb5h0000gn/T/pip-ephem-wheel-cache-_26r1vpx/wheels/b3/8a/e6/58c1a74cf84597431274ba0af6531f9b2b7fbe1cf1b1cd0e5d\n",
      "Successfully built mudata\n",
      "Installing collected packages: mudata\n",
      "  Attempting uninstall: mudata\n",
      "    Found existing installation: mudata 0.1.0\n",
      "    Uninstalling mudata-0.1.0:\n",
      "      Successfully uninstalled mudata-0.1.0\n",
      "Successfully installed mudata-0.1.1\n"
     ]
    }
   ],
   "source": [
    "!pip install git+https://github.com/keller-mark/mudata.git@keller-mark/write_zarr"
   ]
  },
  {
   "cell_type": "code",
   "execution_count": 2,
   "metadata": {},
   "outputs": [],
   "source": [
    "import os\n",
    "from os.path import join\n",
    "from urllib.request import urlretrieve\n",
    "import muon as mu\n",
    "from muon import atac as ac\n",
    "import scanpy as sc\n",
    "import anndata as ad\n",
    "import numpy as np\n",
    "\n",
    "from vitessce import (\n",
    "    VitessceConfig,\n",
    "    Component as cm,\n",
    "    CoordinationType as ct,\n",
    "    MuDataWrapper,\n",
    "    AnnDataWrapper,\n",
    ")"
   ]
  },
  {
   "cell_type": "markdown",
   "metadata": {},
   "source": [
    "## 2. Download the dataset\n",
    "\n",
    "Download data from https://www.10xgenomics.com/resources/datasets/fresh-embryonic-e-18-mouse-brain-5-k-1-standard-2-0-0"
   ]
  },
  {
   "cell_type": "code",
   "execution_count": 3,
   "metadata": {},
   "outputs": [],
   "source": [
    "#os.makedirs(\"data\", exist_ok=True)\n",
    "h5_filepath = join(\"data\", \"multiome\", \"e18_mouse_brain_fresh_5k_filtered_feature_bc_matrix.h5\")\n",
    "#urlretrieve('https://seurat.nygenome.org/pbmc3k_final.h5ad', adata_filepath)"
   ]
  },
  {
   "cell_type": "markdown",
   "metadata": {},
   "source": [
    "## 3. Load the dataset\n",
    "\n",
    "Load the dataset using AnnData's `read_h5ad` function."
   ]
  },
  {
   "cell_type": "code",
   "execution_count": 4,
   "metadata": {},
   "outputs": [
    {
     "name": "stderr",
     "output_type": "stream",
     "text": [
      "Variable names are not unique. To make them unique, call `.var_names_make_unique`.\n"
     ]
    },
    {
     "name": "stdout",
     "output_type": "stream",
     "text": [
      "Added `interval` annotation for features from data/multiome/e18_mouse_brain_fresh_5k_filtered_feature_bc_matrix.h5\n"
     ]
    },
    {
     "name": "stderr",
     "output_type": "stream",
     "text": [
      "Variable names are not unique. To make them unique, call `.var_names_make_unique`.\n"
     ]
    }
   ],
   "source": [
    "mdata = mu.read_10x_h5(h5_filepath)\n",
    "mdata.var_names_make_unique()"
   ]
  },
  {
   "cell_type": "code",
   "execution_count": 5,
   "metadata": {},
   "outputs": [
    {
     "data": {
      "text/plain": [
       "AnnData object with n_obs × n_vars = 4878 × 172193\n",
       "    var: 'gene_ids', 'feature_types', 'genome', 'interval'"
      ]
     },
     "execution_count": 5,
     "metadata": {},
     "output_type": "execute_result"
    }
   ],
   "source": [
    "rna = mdata.mod['rna']\n",
    "rna\n",
    "atac = mdata.mod['atac']\n",
    "atac"
   ]
  },
  {
   "cell_type": "markdown",
   "metadata": {},
   "source": [
    "## 4.1 Pre-process the gene expression dataset\n",
    "The following code is based on the Muon tutorial notebook https://github.com/PMBio/muon-tutorials/blob/master/single-cell-rna-atac/pbmc10k/1-Gene-Expression-Processing.ipynb"
   ]
  },
  {
   "cell_type": "code",
   "execution_count": 6,
   "metadata": {},
   "outputs": [],
   "source": [
    "# QC for mitochondrial genes\n",
    "rna.var['mt'] = rna.var_names.str.startswith('mt-')  # annotate the group of mitochondrial genes as 'mt'\n",
    "sc.pp.calculate_qc_metrics(rna, qc_vars=['mt'], percent_top=None, log1p=False, inplace=True)"
   ]
  },
  {
   "cell_type": "code",
   "execution_count": 7,
   "metadata": {},
   "outputs": [],
   "source": [
    "# Filtering for cells and genes with sufficient counts\n",
    "mu.pp.filter_var(rna, 'n_cells_by_counts', lambda x: x >= 3)\n",
    "mu.pp.filter_obs(rna, 'n_genes_by_counts', lambda x: (x >= 200) & (x < 5000))\n",
    "mu.pp.filter_obs(rna, 'total_counts', lambda x: x < 15000)\n",
    "mu.pp.filter_obs(rna, 'pct_counts_mt', lambda x: x < 20)"
   ]
  },
  {
   "cell_type": "code",
   "execution_count": 8,
   "metadata": {},
   "outputs": [],
   "source": [
    "# Normalization and scaling\n",
    "sc.pp.normalize_total(rna, target_sum=1e4)\n",
    "sc.pp.log1p(rna)\n",
    "\n",
    "sc.pp.highly_variable_genes(rna, min_mean=0.02, max_mean=4, min_disp=0.5)\n",
    "\n",
    "sc.pp.scale(rna, max_value=10)"
   ]
  },
  {
   "cell_type": "code",
   "execution_count": 9,
   "metadata": {},
   "outputs": [],
   "source": [
    "# Dimensionality reduction and clustering\n",
    "sc.tl.pca(rna, svd_solver='arpack')\n",
    "sc.pp.neighbors(rna, n_neighbors=10, n_pcs=20)\n",
    "sc.tl.leiden(rna, resolution=.5)"
   ]
  },
  {
   "cell_type": "markdown",
   "metadata": {},
   "source": [
    "## 4.2 Pre-process the chromatin accessibility dataset\n",
    "The following code is based on the Muon tutorial notebook https://github.com/PMBio/muon-tutorials/blob/master/single-cell-rna-atac/pbmc10k/2-Chromatin-Accessibility-Processing.ipynb"
   ]
  },
  {
   "cell_type": "code",
   "execution_count": 10,
   "metadata": {},
   "outputs": [],
   "source": [
    "# QC\n",
    "sc.pp.calculate_qc_metrics(atac, percent_top=None, log1p=False, inplace=True)"
   ]
  },
  {
   "cell_type": "code",
   "execution_count": 11,
   "metadata": {},
   "outputs": [],
   "source": [
    "# Filtering\n",
    "mu.pp.filter_var(atac, 'n_cells_by_counts', lambda x: x >= 10)\n",
    "mu.pp.filter_obs(atac, 'n_genes_by_counts', lambda x: (x >= 2000) & (x <= 15000))\n",
    "mu.pp.filter_obs(atac, 'total_counts', lambda x: (x >= 4000) & (x <= 40000))"
   ]
  },
  {
   "cell_type": "code",
   "execution_count": 12,
   "metadata": {},
   "outputs": [],
   "source": [
    "# Normalization\n",
    "atac.layers[\"counts\"] = atac.X # save original values in a counts layer\n",
    "sc.pp.normalize_per_cell(atac, counts_per_cell_after=1e4)\n",
    "sc.pp.log1p(atac)"
   ]
  },
  {
   "cell_type": "code",
   "execution_count": 13,
   "metadata": {},
   "outputs": [
    {
     "data": {
      "text/plain": [
       "11365"
      ]
     },
     "execution_count": 13,
     "metadata": {},
     "output_type": "execute_result"
    }
   ],
   "source": [
    "sc.pp.highly_variable_genes(atac, min_mean=0.05, max_mean=1.5, min_disp=.5)\n",
    "np.sum(atac.var.highly_variable)"
   ]
  },
  {
   "cell_type": "code",
   "execution_count": 14,
   "metadata": {},
   "outputs": [],
   "source": [
    "atac.raw = atac"
   ]
  },
  {
   "cell_type": "code",
   "execution_count": 15,
   "metadata": {},
   "outputs": [],
   "source": [
    "sc.pp.scale(atac)"
   ]
  },
  {
   "cell_type": "code",
   "execution_count": 16,
   "metadata": {},
   "outputs": [
    {
     "data": {
      "text/plain": [
       "'\\nac.tl.lsi(atac)\\natac.obsm[\\'X_lsi\\'] = atac.obsm[\\'X_lsi\\'][:,1:]\\natac.varm[\"LSI\"] = atac.varm[\"LSI\"][:,1:]\\natac.uns[\"lsi\"][\"stdev\"] = atac.uns[\"lsi\"][\"stdev\"][1:]\\n'"
      ]
     },
     "execution_count": 16,
     "metadata": {},
     "output_type": "execute_result"
    }
   ],
   "source": [
    "# Dimensionality reduction and clustering\n",
    "\"\"\"\n",
    "ac.tl.lsi(atac)\n",
    "atac.obsm['X_lsi'] = atac.obsm['X_lsi'][:,1:]\n",
    "atac.varm[\"LSI\"] = atac.varm[\"LSI\"][:,1:]\n",
    "atac.uns[\"lsi\"][\"stdev\"] = atac.uns[\"lsi\"][\"stdev\"][1:]\n",
    "\"\"\""
   ]
  },
  {
   "cell_type": "code",
   "execution_count": 17,
   "metadata": {},
   "outputs": [],
   "source": [
    "#sc.pp.neighbors(atac, use_rep=\"X_lsi\", n_neighbors=10, n_pcs=30)"
   ]
  },
  {
   "cell_type": "code",
   "execution_count": 18,
   "metadata": {},
   "outputs": [],
   "source": [
    "#sc.tl.leiden(atac, resolution=.5)"
   ]
  },
  {
   "cell_type": "code",
   "execution_count": 19,
   "metadata": {},
   "outputs": [
    {
     "data": {
      "text/plain": [
       "AnnData object with n_obs × n_vars = 3697 × 172193\n",
       "    obs: 'n_genes_by_counts', 'total_counts', 'n_counts'\n",
       "    var: 'gene_ids', 'feature_types', 'genome', 'interval', 'n_cells_by_counts', 'mean_counts', 'pct_dropout_by_counts', 'total_counts', 'highly_variable', 'means', 'dispersions', 'dispersions_norm', 'mean', 'std'\n",
       "    uns: 'log1p', 'hvg'\n",
       "    layers: 'counts'"
      ]
     },
     "execution_count": 19,
     "metadata": {},
     "output_type": "execute_result"
    }
   ],
   "source": [
    "mdata.mod['atac']"
   ]
  },
  {
   "cell_type": "code",
   "execution_count": 33,
   "metadata": {},
   "outputs": [
    {
     "data": {
      "text/html": [
       "<pre>MuData object with n_obs × n_vars = 121 × 200\n",
       "  var:\t&#x27;dispersions&#x27;, &#x27;dispersions_norm&#x27;, &#x27;feature_types&#x27;, &#x27;gene_ids&#x27;, &#x27;genome&#x27;, &#x27;highly_variable&#x27;, &#x27;interval&#x27;, &#x27;mean&#x27;, &#x27;mean_counts&#x27;, &#x27;means&#x27;, &#x27;n_cells_by_counts&#x27;, &#x27;pct_dropout_by_counts&#x27;, &#x27;std&#x27;, &#x27;total_counts&#x27;\n",
       "  2 modalities\n",
       "    rna:\t100 x 100\n",
       "      obs:\t&#x27;n_genes_by_counts&#x27;, &#x27;total_counts&#x27;, &#x27;total_counts_mt&#x27;, &#x27;pct_counts_mt&#x27;, &#x27;leiden&#x27;\n",
       "      var:\t&#x27;gene_ids&#x27;, &#x27;feature_types&#x27;, &#x27;genome&#x27;, &#x27;interval&#x27;, &#x27;mt&#x27;, &#x27;n_cells_by_counts&#x27;, &#x27;mean_counts&#x27;, &#x27;pct_dropout_by_counts&#x27;, &#x27;total_counts&#x27;, &#x27;highly_variable&#x27;, &#x27;means&#x27;, &#x27;dispersions&#x27;, &#x27;dispersions_norm&#x27;, &#x27;mean&#x27;, &#x27;std&#x27;\n",
       "      uns:\t&#x27;log1p&#x27;, &#x27;hvg&#x27;, &#x27;pca&#x27;, &#x27;neighbors&#x27;, &#x27;leiden&#x27;\n",
       "      obsm:\t&#x27;X_pca&#x27;\n",
       "      varm:\t&#x27;PCs&#x27;\n",
       "      obsp:\t&#x27;distances&#x27;, &#x27;connectivities&#x27;\n",
       "    atac:\t100 x 100\n",
       "      obs:\t&#x27;n_genes_by_counts&#x27;, &#x27;total_counts&#x27;, &#x27;n_counts&#x27;\n",
       "      var:\t&#x27;gene_ids&#x27;, &#x27;feature_types&#x27;, &#x27;genome&#x27;, &#x27;interval&#x27;, &#x27;n_cells_by_counts&#x27;, &#x27;mean_counts&#x27;, &#x27;pct_dropout_by_counts&#x27;, &#x27;total_counts&#x27;, &#x27;highly_variable&#x27;, &#x27;means&#x27;, &#x27;dispersions&#x27;, &#x27;dispersions_norm&#x27;, &#x27;mean&#x27;, &#x27;std&#x27;\n",
       "      uns:\t&#x27;log1p&#x27;, &#x27;hvg&#x27;\n",
       "      layers:\t&#x27;counts&#x27;</pre>"
      ],
      "text/plain": [
       "MuData object with n_obs × n_vars = 121 × 200\n",
       "  var:\t'dispersions', 'dispersions_norm', 'feature_types', 'gene_ids', 'genome', 'highly_variable', 'interval', 'mean', 'mean_counts', 'means', 'n_cells_by_counts', 'pct_dropout_by_counts', 'std', 'total_counts'\n",
       "  2 modalities\n",
       "    rna:\t100 x 100\n",
       "      obs:\t'n_genes_by_counts', 'total_counts', 'total_counts_mt', 'pct_counts_mt', 'leiden'\n",
       "      var:\t'gene_ids', 'feature_types', 'genome', 'interval', 'mt', 'n_cells_by_counts', 'mean_counts', 'pct_dropout_by_counts', 'total_counts', 'highly_variable', 'means', 'dispersions', 'dispersions_norm', 'mean', 'std'\n",
       "      uns:\t'log1p', 'hvg', 'pca', 'neighbors', 'leiden'\n",
       "      obsm:\t'X_pca'\n",
       "      varm:\t'PCs'\n",
       "      obsp:\t'distances', 'connectivities'\n",
       "    atac:\t100 x 100\n",
       "      obs:\t'n_genes_by_counts', 'total_counts', 'n_counts'\n",
       "      var:\t'gene_ids', 'feature_types', 'genome', 'interval', 'n_cells_by_counts', 'mean_counts', 'pct_dropout_by_counts', 'total_counts', 'highly_variable', 'means', 'dispersions', 'dispersions_norm', 'mean', 'std'\n",
       "      uns:\t'log1p', 'hvg'\n",
       "      layers:\t'counts'"
      ]
     },
     "execution_count": 33,
     "metadata": {},
     "output_type": "execute_result"
    }
   ],
   "source": [
    "mdata.mod['atac'] = mdata.mod['atac'][:100, :100]\n",
    "mdata.mod['rna'] = mdata.mod['rna'][:100, :100]\n",
    "mdata.update()\n",
    "mdata"
   ]
  },
  {
   "cell_type": "code",
   "execution_count": 34,
   "metadata": {},
   "outputs": [
    {
     "name": "stderr",
     "output_type": "stream",
     "text": [
      "/Users/mkeller/anaconda3/envs/vitessce-jupyter-examples/lib/python3.9/site-packages/anndata/_core/anndata.py:1233: SettingWithCopyWarning: \n",
      "A value is trying to be set on a copy of a slice from a DataFrame.\n",
      "Try using .loc[row_indexer,col_indexer] = value instead\n",
      "\n",
      "See the caveats in the documentation: https://pandas.pydata.org/pandas-docs/stable/user_guide/indexing.html#returning-a-view-versus-a-copy\n",
      "  df[key] = c\n",
      "... storing 'feature_types' as categorical\n",
      "... storing 'genome' as categorical\n",
      "/Users/mkeller/anaconda3/envs/vitessce-jupyter-examples/lib/python3.9/site-packages/anndata/_core/anndata.py:1228: ImplicitModificationWarning: Initializing view as actual.\n",
      "  warnings.warn(\n",
      "Trying to set attribute `.var` of view, copying.\n",
      "... storing 'feature_types' as categorical\n",
      "Trying to set attribute `.var` of view, copying.\n",
      "... storing 'genome' as categorical\n",
      "Trying to set attribute `.var` of view, copying.\n",
      "... storing 'feature_types' as categorical\n",
      "Trying to set attribute `.var` of view, copying.\n",
      "... storing 'genome' as categorical\n",
      "... storing 'feature_types' as categorical\n",
      "... storing 'genome' as categorical\n"
     ]
    }
   ],
   "source": [
    "mdata.write_zarr(join(\"data\", \"multiome\", \"e18_mouse_brain_fresh_5k_filtered_feature_bc_matrix.zarr\"))"
   ]
  },
  {
   "cell_type": "markdown",
   "metadata": {},
   "source": [
    "## 5. Create a Vitessce view config\n",
    "\n",
    "Define the data and views you would like to include in the widget."
   ]
  },
  {
   "cell_type": "code",
   "execution_count": null,
   "metadata": {},
   "outputs": [],
   "source": [
    "vc = VitessceConfig(name='10x multiome example')\n",
    "rna_dataset = vc.add_dataset(name='RNA').add_object(AnnDataWrapper(\n",
    "    rna,\n",
    "    cell_set_obs=[\"leiden\"], cell_set_obs_names=[\"Leiden\"], \n",
    "    mappings_obsm=[\"X_pca\"], mappings_obsm_names=[\"PCA\"],\n",
    "    expression_matrix=\"X\",\n",
    "    matrix_gene_var_filter=\"highly_variable\"\n",
    "))\n",
    "atac_dataset = vc.add_dataset(name='ATAC').add_object(AnnDataWrapper(\n",
    "    atac,\n",
    "    cell_set_obs=[\"leiden\"], cell_set_obs_names=[\"Leiden\"], \n",
    "    mappings_obsm=[\"X_lsi\"], mappings_obsm_names=[\"LSI\"],\n",
    "    expression_matrix=\"X\",\n",
    "    matrix_gene_var_filter=\"highly_variable\"\n",
    "))\n",
    "\n",
    "pca = vc.add_view(rna_dataset, cm.SCATTERPLOT, mapping=\"PCA\")\n",
    "lsi = vc.add_view(atac_dataset, cm.SCATTERPLOT, mapping=\"LSI\")\n",
    "rna_cell_sets = vc.add_view(rna_dataset, cm.CELL_SETS).set_props(title=\"Cell Sets from RNA\")\n",
    "atac_cell_sets = vc.add_view(atac_dataset, cm.CELL_SETS).set_props(title=\"Cell Sets from ATAC\")\n",
    "genes = vc.add_view(rna_dataset, cm.GENES).set_props(title=\"Genes\")\n",
    "peaks = vc.add_view(atac_dataset, cm.GENES).set_props(title=\"Peaks\", variablesLabelOverride=\"peak\")\n",
    "rna_heatmap = vc.add_view(rna_dataset, cm.HEATMAP).set_props(title=\"Heatmap from RNA\")\n",
    "atac_heatmap = vc.add_view(atac_dataset, cm.HEATMAP).set_props(title=\"Heatmap from ATAC\", variablesLabelOverride=\"peak\")\n",
    "\n",
    "vc.link_views([pca, rna_heatmap], [ct.GENE_EXPRESSION_COLORMAP, \"geneExpressionColormapRange\"], [\"plasma\", [0.0, 1.0]])\n",
    "vc.link_views([pca, rna_heatmap, genes], [\"geneSelection\"])\n",
    "vc.link_views([pca, rna_heatmap, rna_cell_sets], [ct.CELL_SET_SELECTION, ct.CELL_SET_COLOR])\n",
    "vc.link_views([lsi, atac_heatmap], [ct.GENE_EXPRESSION_COLORMAP, \"geneExpressionColormapRange\"], [\"plasma\", [0.0, 1.0]])\n",
    "vc.link_views([lsi, atac_heatmap, peaks], [\"geneSelection\"])\n",
    "vc.link_views([lsi, atac_heatmap, atac_cell_sets], [ct.CELL_SET_SELECTION, ct.CELL_SET_COLOR])\n",
    "\n",
    "vc.layout(((pca | lsi) / (rna_cell_sets | atac_cell_sets)) | ((rna_heatmap | atac_heatmap) / (genes | peaks)));"
   ]
  },
  {
   "cell_type": "markdown",
   "metadata": {},
   "source": [
    "## 5. Create the Vitessce widget"
   ]
  },
  {
   "cell_type": "markdown",
   "metadata": {},
   "source": [
    "A widget can be created with the `.widget()` method on the config instance."
   ]
  },
  {
   "cell_type": "code",
   "execution_count": null,
   "metadata": {},
   "outputs": [],
   "source": [
    "vw = vc.widget()\n",
    "vw"
   ]
  },
  {
   "cell_type": "code",
   "execution_count": null,
   "metadata": {},
   "outputs": [],
   "source": []
  }
 ],
 "metadata": {
  "kernelspec": {
   "display_name": "Python 3",
   "language": "python",
   "name": "python3"
  },
  "language_info": {
   "codemirror_mode": {
    "name": "ipython",
    "version": 3
   },
   "file_extension": ".py",
   "mimetype": "text/x-python",
   "name": "python",
   "nbconvert_exporter": "python",
   "pygments_lexer": "ipython3",
   "version": "3.9.4"
  }
 },
 "nbformat": 4,
 "nbformat_minor": 4
}

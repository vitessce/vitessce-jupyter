{
 "cells": [
  {
   "cell_type": "code",
   "execution_count": 4,
   "id": "000896e6-6596-4584-86f5-6334bdfbc992",
   "metadata": {},
   "outputs": [],
   "source": [
    "from anndata import read_h5ad\n",
    "from scipy.sparse import issparse"
   ]
  },
  {
   "cell_type": "code",
   "execution_count": 3,
   "id": "7619c659-369b-4ddb-88c4-14d8111e05c3",
   "metadata": {},
   "outputs": [],
   "source": [
    "adata = read_h5ad(\"data/raw/COMBAT-CITESeq-EXPRESSION-ATLAS.h5ad\", backed=\"r+\")"
   ]
  },
  {
   "cell_type": "code",
   "execution_count": 25,
   "id": "7546a32a-2ab5-4fdf-a4dc-fa33c4f6c33b",
   "metadata": {},
   "outputs": [],
   "source": [
    "arr = adata.X.to_memory()"
   ]
  },
  {
   "cell_type": "code",
   "execution_count": 27,
   "id": "406d2746-3e46-449b-b223-15d7420037ca",
   "metadata": {},
   "outputs": [
    {
     "data": {
      "text/plain": [
       "True"
      ]
     },
     "execution_count": 27,
     "metadata": {},
     "output_type": "execute_result"
    }
   ],
   "source": [
    "issparse(arr)"
   ]
  },
  {
   "cell_type": "code",
   "execution_count": null,
   "id": "7655d339-24ec-4168-bf84-ce9ea7d36f31",
   "metadata": {},
   "outputs": [],
   "source": []
  }
 ],
 "metadata": {
  "kernelspec": {
   "display_name": "Python 3 (ipykernel)",
   "language": "python",
   "name": "python3"
  },
  "language_info": {
   "codemirror_mode": {
    "name": "ipython",
    "version": 3
   },
   "file_extension": ".py",
   "mimetype": "text/x-python",
   "name": "python",
   "nbconvert_exporter": "python",
   "pygments_lexer": "ipython3",
   "version": "3.8.0"
  }
 },
 "nbformat": 4,
 "nbformat_minor": 5
}
